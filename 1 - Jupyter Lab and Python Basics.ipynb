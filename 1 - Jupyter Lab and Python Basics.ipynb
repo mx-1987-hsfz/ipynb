{
 "cells": [
  {
   "cell_type": "markdown",
   "metadata": {
    "tags": []
   },
   "source": [
    "# Python's Code Basics"
   ]
  },
  {
   "cell_type": "markdown",
   "metadata": {
    "tags": []
   },
   "source": [
    "## Rules for Variable Names:\n",
    "\n",
    "A variable name must start with a letter or the underscore character \n",
    "\n",
    "A variable name cannot start with a number\n",
    "\n",
    "A variable name can only contain alpha-numeric characters and underscores (A-z, 0-9, and _ )\n",
    "\n",
    "Variable names are case-sensitive (age, Age and AGE are three different variables)\n"
   ]
  },
  {
   "cell_type": "code",
   "execution_count": 1,
   "metadata": {
    "tags": []
   },
   "outputs": [
    {
     "data": {
      "text/plain": [
       "1"
      ]
     },
     "execution_count": 1,
     "metadata": {},
     "output_type": "execute_result"
    }
   ],
   "source": [
    "# variable name = value   (=: assign this value to this variable)  \n",
    "a = 1\n",
    "a"
   ]
  },
  {
   "cell_type": "code",
   "execution_count": 2,
   "metadata": {
    "scrolled": true,
    "tags": []
   },
   "outputs": [],
   "source": [
    "#0a = 2\n",
    "#How to check error message?"
   ]
  },
  {
   "cell_type": "code",
   "execution_count": 3,
   "metadata": {
    "scrolled": true,
    "tags": []
   },
   "outputs": [
    {
     "name": "stdout",
     "output_type": "stream",
     "text": [
      "12\n",
      "15\n"
     ]
    }
   ],
   "source": [
    "age = 12\n",
    "Age = 15\n",
    "print(age)\n",
    "print(Age)\n",
    "# Age and age are different variables "
   ]
  },
  {
   "cell_type": "markdown",
   "metadata": {},
   "source": [
    "## The print Statement\n",
    "\n",
    "The **print** statement can be used in the following different ways :\n",
    "\n",
    "    - print(\"Hello World\")   which is printing out a string variable\n",
    "    - print(\"Hello\", String Variable)   \n",
    "    - print(\"Hello\" + String Varialbe)"
   ]
  },
  {
   "cell_type": "code",
   "execution_count": 4,
   "metadata": {
    "scrolled": true,
    "tags": []
   },
   "outputs": [
    {
     "name": "stdout",
     "output_type": "stream",
     "text": [
      "Hello World\n"
     ]
    }
   ],
   "source": [
    "print(\"Hello World\")"
   ]
  },
  {
   "cell_type": "code",
   "execution_count": 5,
   "metadata": {
    "tags": []
   },
   "outputs": [],
   "source": [
    "string1 = \"World\"\n",
    "string2 = \"!\""
   ]
  },
  {
   "cell_type": "code",
   "execution_count": 6,
   "metadata": {},
   "outputs": [
    {
     "name": "stdout",
     "output_type": "stream",
     "text": [
      "World\n"
     ]
    }
   ],
   "source": [
    "print(string1)"
   ]
  },
  {
   "cell_type": "code",
   "execution_count": 7,
   "metadata": {},
   "outputs": [
    {
     "name": "stdout",
     "output_type": "stream",
     "text": [
      "!\n"
     ]
    }
   ],
   "source": [
    "print(string2)"
   ]
  },
  {
   "cell_type": "code",
   "execution_count": 8,
   "metadata": {},
   "outputs": [
    {
     "name": "stdout",
     "output_type": "stream",
     "text": [
      "Hello World\n"
     ]
    }
   ],
   "source": [
    "print(\"Hello\", string1)  #notice that there is an added space between Hello and world"
   ]
  },
  {
   "cell_type": "code",
   "execution_count": 9,
   "metadata": {
    "tags": []
   },
   "outputs": [
    {
     "name": "stdout",
     "output_type": "stream",
     "text": [
      "Hello World !\n"
     ]
    }
   ],
   "source": [
    "print(\"Hello\", string1, string2) #notice that there is an added space between Hello, world, and !"
   ]
  },
  {
   "cell_type": "code",
   "execution_count": 10,
   "metadata": {},
   "outputs": [
    {
     "name": "stdout",
     "output_type": "stream",
     "text": [
      "HelloWorld!\n"
     ]
    }
   ],
   "source": [
    "print(\"Hello\" + string1 + string2) #Concatenation (+) is the addition for strings, so no added space between strings"
   ]
  },
  {
   "cell_type": "markdown",
   "metadata": {
    "tags": []
   },
   "source": [
    "## Different Types of Variables in Python:\n",
    "## strings, numerical (integers, floats), boolean (True or False)"
   ]
  },
  {
   "cell_type": "markdown",
   "metadata": {},
   "source": [
    "### Strings"
   ]
  },
  {
   "cell_type": "code",
   "execution_count": 11,
   "metadata": {},
   "outputs": [],
   "source": [
    "# is used for writing notes on your codes. \n",
    "# This is extremely important for future reference. You will thank yourself when you check your own code even days later. \n",
    "\n",
    "var_string1 = 'Accounting Data Analytics'  #string: characters/phrases/sentences but put '' around string so that Python knows.\n",
    "var_string2= \"Accounting Data Analytics\" # you can use either '' or \"\"\n",
    "\n",
    "#comment the entire cell: control + /"
   ]
  },
  {
   "cell_type": "code",
   "execution_count": 12,
   "metadata": {},
   "outputs": [
    {
     "name": "stdout",
     "output_type": "stream",
     "text": [
      "Accounting Data Analytics\n",
      "Accounting Data Analytics\n"
     ]
    }
   ],
   "source": [
    "print(var_string1)  #tells Python to print out the string, var_string will then print out the value that's assigned to the variable\n",
    "print(var_string2)  "
   ]
  },
  {
   "cell_type": "code",
   "execution_count": 13,
   "metadata": {},
   "outputs": [
    {
     "name": "stdout",
     "output_type": "stream",
     "text": [
      "Python's Magic\n"
     ]
    }
   ],
   "source": [
    "# what if there is a ' inside you string?\n",
    "var_string3= \"Python's Magic\" \n",
    "print(var_string3)  "
   ]
  },
  {
   "cell_type": "code",
   "execution_count": 14,
   "metadata": {},
   "outputs": [
    {
     "name": "stdout",
     "output_type": "stream",
     "text": [
      " \"I hope we can pass the final exam,\" he said.\n"
     ]
    }
   ],
   "source": [
    "#same thing for \"\"\n",
    "var_string4= ' \"I hope we can pass the final exam,\" he said.'\n",
    "print(var_string4)  "
   ]
  },
  {
   "cell_type": "code",
   "execution_count": 15,
   "metadata": {},
   "outputs": [],
   "source": [
    "ID = 1234\n",
    "Name = \"Tom\""
   ]
  },
  {
   "cell_type": "code",
   "execution_count": 16,
   "metadata": {
    "tags": []
   },
   "outputs": [
    {
     "name": "stdout",
     "output_type": "stream",
     "text": [
      "my ID number is 1234, and my name is Tom\n"
     ]
    }
   ],
   "source": [
    "print('my ID number is {}, and my name is {}'.format(ID,Name)) \n",
    "#use .Tab to search for the available functions "
   ]
  },
  {
   "cell_type": "code",
   "execution_count": 17,
   "metadata": {},
   "outputs": [],
   "source": [
    "my_string = 'Hello world, I am learning #IADA'"
   ]
  },
  {
   "cell_type": "code",
   "execution_count": 18,
   "metadata": {},
   "outputs": [
    {
     "data": {
      "text/plain": [
       "'hello world, i am learning #iada'"
      ]
     },
     "execution_count": 18,
     "metadata": {},
     "output_type": "execute_result"
    }
   ],
   "source": [
    "my_string.lower()  #shift+Tab for help "
   ]
  },
  {
   "cell_type": "code",
   "execution_count": 19,
   "metadata": {},
   "outputs": [
    {
     "data": {
      "text/plain": [
       "'HELLO WORLD, I AM LEARNING #IADA'"
      ]
     },
     "execution_count": 19,
     "metadata": {},
     "output_type": "execute_result"
    }
   ],
   "source": [
    "my_string.upper()"
   ]
  },
  {
   "cell_type": "code",
   "execution_count": 20,
   "metadata": {},
   "outputs": [
    {
     "data": {
      "text/plain": [
       "['Hello', 'world,', 'I', 'am', 'learning', '#IADA']"
      ]
     },
     "execution_count": 20,
     "metadata": {},
     "output_type": "execute_result"
    }
   ],
   "source": [
    "my_string.split()"
   ]
  },
  {
   "cell_type": "markdown",
   "metadata": {
    "tags": []
   },
   "source": [
    "### Booleans (True or False)"
   ]
  },
  {
   "cell_type": "code",
   "execution_count": 21,
   "metadata": {},
   "outputs": [
    {
     "data": {
      "text/plain": [
       "True"
      ]
     },
     "execution_count": 21,
     "metadata": {},
     "output_type": "execute_result"
    }
   ],
   "source": [
    "x = True   #boollean variable: either True or False\n",
    "x\n",
    "#If you want to execute a section of code: click on the section, and use: ctrl + enter to run this code. "
   ]
  },
  {
   "cell_type": "code",
   "execution_count": 22,
   "metadata": {},
   "outputs": [
    {
     "data": {
      "text/plain": [
       "False"
      ]
     },
     "execution_count": 22,
     "metadata": {},
     "output_type": "execute_result"
    }
   ],
   "source": [
    "False"
   ]
  },
  {
   "cell_type": "code",
   "execution_count": 23,
   "metadata": {},
   "outputs": [
    {
     "data": {
      "text/plain": [
       "bool"
      ]
     },
     "execution_count": 23,
     "metadata": {},
     "output_type": "execute_result"
    }
   ],
   "source": [
    "#How to check the data type of a variable?\n",
    "type(x)"
   ]
  },
  {
   "cell_type": "markdown",
   "metadata": {},
   "source": [
    "## Operators\n",
    "\n",
    "### Arithmetic operators\n",
    "\n",
    "| Symbol | \tName |\n",
    "|----|---|\n",
    "| +  | Addition |\n",
    "| -  | Subtraction |\n",
    "| /  | division |\n",
    "| %  | mod |\n",
    "| *  | multiplication |\n",
    "| //  | floor division |\n",
    "| **  | to the power of |"
   ]
  },
  {
   "cell_type": "code",
   "execution_count": 24,
   "metadata": {
    "tags": []
   },
   "outputs": [
    {
     "name": "stdout",
     "output_type": "stream",
     "text": [
      "10\n"
     ]
    }
   ],
   "source": [
    "# you could use Python as a calculator\n",
    "a = 7\n",
    "b = 3\n",
    "print(a+b)  "
   ]
  },
  {
   "cell_type": "code",
   "execution_count": 25,
   "metadata": {},
   "outputs": [
    {
     "name": "stdout",
     "output_type": "stream",
     "text": [
      "10 4 2.3333333333333335 1 21 2 343\n"
     ]
    }
   ],
   "source": [
    "print(a+b, a-b, a/b, a%b, a*b, a//b, a**b)  "
   ]
  },
  {
   "cell_type": "markdown",
   "metadata": {
    "tags": []
   },
   "source": [
    "### Comparison Operators\n",
    "essentially checks the relation between two variables:\n",
    "e.g., whether one is bigger/smaller/equal to the other one. \n",
    "\n",
    "then returns True or False"
   ]
  },
  {
   "cell_type": "markdown",
   "metadata": {},
   "source": [
    "| Symbol | \tName |\n",
    "|----|---|\n",
    "| == | True, if it is equal |\n",
    "| !=  | True, if not equal to |\n",
    "| < | less than |\n",
    "| > | greater than |\n",
    "| <=  | less than or equal to |\n",
    "| >=  | greater than or equal to |"
   ]
  },
  {
   "cell_type": "code",
   "execution_count": 26,
   "metadata": {
    "tags": []
   },
   "outputs": [
    {
     "data": {
      "text/plain": [
       "1"
      ]
     },
     "execution_count": 26,
     "metadata": {},
     "output_type": "execute_result"
    }
   ],
   "source": [
    "z = 1   \n",
    "\n",
    "#be very careful with  = versus == \n",
    "\n",
    "# =: assign 1 to the variable of z\n",
    "#==: checking if Z is equal to something: the output will be either true or false (a Boollean variable). \n",
    "\n",
    "z  # this \"calls out\" our variable z and print out the value it has been assigned to"
   ]
  },
  {
   "cell_type": "code",
   "execution_count": 27,
   "metadata": {
    "scrolled": true
   },
   "outputs": [
    {
     "data": {
      "text/plain": [
       "False"
      ]
     },
     "execution_count": 27,
     "metadata": {},
     "output_type": "execute_result"
    }
   ],
   "source": [
    "z == 2  # checking if z is equal to 2. if yes, returns True. "
   ]
  },
  {
   "cell_type": "code",
   "execution_count": 28,
   "metadata": {},
   "outputs": [
    {
     "data": {
      "text/plain": [
       "True"
      ]
     },
     "execution_count": 28,
     "metadata": {},
     "output_type": "execute_result"
    }
   ],
   "source": [
    "z >= 1"
   ]
  },
  {
   "cell_type": "markdown",
   "metadata": {},
   "source": [
    "### Logical Operators\n",
    "\n",
    "Logical operators are used to combine conditional statements:\n",
    "\n",
    "| Symbol | Description |\n",
    "|----|---|\n",
    "| and  |Returns True if both statements are true |\n",
    "| or  | \tReturns True if one of the statements is true |\n",
    "| not  | \tReverse the result, returns False if the result is true |"
   ]
  },
  {
   "cell_type": "code",
   "execution_count": 29,
   "metadata": {},
   "outputs": [
    {
     "data": {
      "text/plain": [
       "True"
      ]
     },
     "execution_count": 29,
     "metadata": {},
     "output_type": "execute_result"
    }
   ],
   "source": [
    "True or False"
   ]
  },
  {
   "cell_type": "code",
   "execution_count": 30,
   "metadata": {},
   "outputs": [
    {
     "data": {
      "text/plain": [
       "False"
      ]
     },
     "execution_count": 30,
     "metadata": {},
     "output_type": "execute_result"
    }
   ],
   "source": [
    "False or False"
   ]
  },
  {
   "cell_type": "code",
   "execution_count": 31,
   "metadata": {},
   "outputs": [
    {
     "data": {
      "text/plain": [
       "False"
      ]
     },
     "execution_count": 31,
     "metadata": {},
     "output_type": "execute_result"
    }
   ],
   "source": [
    "True and False # And: you need all parts to be true: to output True"
   ]
  },
  {
   "cell_type": "code",
   "execution_count": 32,
   "metadata": {
    "tags": []
   },
   "outputs": [
    {
     "data": {
      "text/plain": [
       "True"
      ]
     },
     "execution_count": 32,
     "metadata": {},
     "output_type": "execute_result"
    }
   ],
   "source": [
    "a = 1\n",
    "b = 2\n",
    "(a == 3) or (b == 2)   #two relational operators: ==, use () "
   ]
  },
  {
   "cell_type": "code",
   "execution_count": 33,
   "metadata": {
    "scrolled": true
   },
   "outputs": [
    {
     "data": {
      "text/plain": [
       "True"
      ]
     },
     "execution_count": 33,
     "metadata": {},
     "output_type": "execute_result"
    }
   ],
   "source": [
    "a == 3 or b == 2 \n",
    "# Python always calculate comparison operators before logical operators, so there is no need to add brackets"
   ]
  },
  {
   "cell_type": "markdown",
   "metadata": {
    "tags": []
   },
   "source": [
    "## Data Structures\n",
    "\n",
    "##### List (one of the most commonly used data structures in Python)\n",
    "\n",
    "##### list can contain all different types of objects: string, integer, float, etc. (each object needs to be separated with comma)\n",
    "\n",
    "##### To tell python that this is a list: use squared parenthesis [object 1, object 2, object3]"
   ]
  },
  {
   "cell_type": "code",
   "execution_count": 34,
   "metadata": {},
   "outputs": [
    {
     "data": {
      "text/plain": [
       "[]"
      ]
     },
     "execution_count": 34,
     "metadata": {},
     "output_type": "execute_result"
    }
   ],
   "source": [
    "a = []   # now a is an empty list\n",
    "a"
   ]
  },
  {
   "cell_type": "code",
   "execution_count": 35,
   "metadata": {},
   "outputs": [
    {
     "data": {
      "text/plain": [
       "['apple', 'orange', 25, True]"
      ]
     },
     "execution_count": 35,
     "metadata": {},
     "output_type": "execute_result"
    }
   ],
   "source": [
    "x = [\"apple\", 'orange', 25, True]   # list can contain all different types of objects: string, integer, float, etc. \n",
    "# (each object needs to be separated with comma)\n",
    "x"
   ]
  },
  {
   "cell_type": "markdown",
   "metadata": {},
   "source": [
    "#### You can do a lot of fun things with lists \n"
   ]
  },
  {
   "cell_type": "code",
   "execution_count": 36,
   "metadata": {
    "tags": []
   },
   "outputs": [
    {
     "name": "stdout",
     "output_type": "stream",
     "text": [
      "apple True True apple\n"
     ]
    }
   ],
   "source": [
    "x = [\"apple\", 'orange', 25, True] \n",
    "# you access values by indexing the position of an object\n",
    "#(the first object is of index 0, the last object can be accessed as -1)\n",
    "# counting from the beginning: 0, 1, 2, 3 (index)\n",
    "# counting from the end: -4, -3, -2, -1 (counting backward)\n",
    "print(x[0], x[3], x[-1], x[-4])"
   ]
  },
  {
   "cell_type": "code",
   "execution_count": 37,
   "metadata": {},
   "outputs": [
    {
     "name": "stdout",
     "output_type": "stream",
     "text": [
      "new value at the index 3 =  new value\n",
      "['apple', 'orange', 25, 'new value']\n"
     ]
    }
   ],
   "source": [
    "# you can change the value of elements by assignment (=)\n",
    "x = [\"apple\", 'orange', 25, True] \n",
    "x[3] = \"new value\"  # I changed the value of x[3] from a bollean True to a string \"new value\"\n",
    "print(\"new value at the index 3 = \", x[3])\n",
    "print(x)"
   ]
  },
  {
   "cell_type": "code",
   "execution_count": 38,
   "metadata": {},
   "outputs": [
    {
     "name": "stdout",
     "output_type": "stream",
     "text": [
      "['orange', 25]\n",
      "['orange', 25, True]\n"
     ]
    }
   ],
   "source": [
    "# you can take a slice of the list \n",
    "#x[start:stop]   will extract the list elements between start and stop-1 !!\n",
    "# note: stop (not inclusive)\n",
    "x = [\"apple\", 'orange', 25, True] \n",
    "print(x[1:3])\n",
    "print(x[1:4])"
   ]
  },
  {
   "cell_type": "code",
   "execution_count": 39,
   "metadata": {},
   "outputs": [],
   "source": [
    "# print(x[4])"
   ]
  },
  {
   "cell_type": "code",
   "execution_count": 40,
   "metadata": {
    "tags": []
   },
   "outputs": [
    {
     "name": "stdout",
     "output_type": "stream",
     "text": [
      "['apple', 'orange']\n",
      "['apple', 'orange']\n"
     ]
    }
   ],
   "source": [
    "# if you don't specify the start or the stop: \n",
    "# then by default: Python will start from the first element and end with the last element\n",
    "x = [\"apple\", 'orange', 25, True] \n",
    "print(x[:2])  # did not specify the start\n",
    "print(x[0:2])"
   ]
  },
  {
   "cell_type": "code",
   "execution_count": 41,
   "metadata": {},
   "outputs": [
    {
     "name": "stdout",
     "output_type": "stream",
     "text": [
      "[25, True]\n",
      "['apple', 'orange', 25, True]\n"
     ]
    }
   ],
   "source": [
    "x = [\"apple\", 'orange', 25, True] \n",
    "print(x[2:])  # did not specify the stop - go to the end of the list and include the last object\n",
    "print(x[:]) # did not specify the start or stop: print out the whole list"
   ]
  },
  {
   "cell_type": "markdown",
   "metadata": {
    "tags": []
   },
   "source": [
    "### Some useful functions to perform on lists: Append, insert\n",
    "\n",
    "you can dynamically append elements and insert elements at specific places"
   ]
  },
  {
   "cell_type": "code",
   "execution_count": 42,
   "metadata": {},
   "outputs": [
    {
     "name": "stdout",
     "output_type": "stream",
     "text": [
      "[2, 4, 'orange', 'haha', 'new value']\n"
     ]
    }
   ],
   "source": [
    "x = [2, 4, 'orange', \"haha\"]\n",
    "\n",
    "# append: adding a new object to the end of our existing list\n",
    "# list.append()   put the object that you want to append in the parenthesis\n",
    "\n",
    "x.append(\"new value\")\n",
    "print(x)"
   ]
  },
  {
   "cell_type": "code",
   "execution_count": 43,
   "metadata": {
    "tags": []
   },
   "outputs": [
    {
     "name": "stdout",
     "output_type": "stream",
     "text": [
      "[2, 4, 'orange', 'haha', 'new value', 3]\n"
     ]
    }
   ],
   "source": [
    "x.append(3)  # this will keep appending 3 to the new list.\n",
    "print(x)"
   ]
  },
  {
   "cell_type": "code",
   "execution_count": 44,
   "metadata": {},
   "outputs": [
    {
     "name": "stdout",
     "output_type": "stream",
     "text": [
      "['value at the begining', 2, 4, 'orange', 'haha', 'new value', 3]\n"
     ]
    }
   ],
   "source": [
    "#inserting at a specific position\n",
    "# list.insert(index, value): index tells Python where you want to put the new value\n",
    "x.insert(0, \"value at the begining\")\n",
    "print(x)"
   ]
  },
  {
   "cell_type": "code",
   "execution_count": 45,
   "metadata": {},
   "outputs": [
    {
     "name": "stdout",
     "output_type": "stream",
     "text": [
      "['value at the begining', 'this is the second object', 2, 4, 'orange', 'haha', 'new value', 3]\n"
     ]
    }
   ],
   "source": [
    "x.insert(1, \"this is the second object\")\n",
    "print(x)"
   ]
  },
  {
   "cell_type": "markdown",
   "metadata": {},
   "source": [
    "### Removing elements from a list\n",
    "using clear(), pop(), remove() and del. \n",
    "* Remove all items: clear()\n",
    "* Remove an item by index and get its value: pop()\n",
    "* Remove an item by value: remove()\n",
    "* Remove items by index or slice: del"
   ]
  },
  {
   "cell_type": "code",
   "execution_count": 46,
   "metadata": {},
   "outputs": [
    {
     "data": {
      "text/plain": [
       "['value at the begining', 2, 4, 'orange', 'haha', 'new value', 3]"
      ]
     },
     "execution_count": 46,
     "metadata": {},
     "output_type": "execute_result"
    }
   ],
   "source": [
    "my_list = ['value at the begining', 2, 4, 'orange', 'haha', 'new value', 3]\n",
    "my_list"
   ]
  },
  {
   "cell_type": "code",
   "execution_count": 47,
   "metadata": {
    "scrolled": true
   },
   "outputs": [
    {
     "data": {
      "text/plain": [
       "[]"
      ]
     },
     "execution_count": 47,
     "metadata": {},
     "output_type": "execute_result"
    }
   ],
   "source": [
    "list1 = my_list \n",
    "list1.clear()\n",
    "list1"
   ]
  },
  {
   "cell_type": "code",
   "execution_count": 48,
   "metadata": {},
   "outputs": [
    {
     "data": {
      "text/plain": [
       "[]"
      ]
     },
     "execution_count": 48,
     "metadata": {},
     "output_type": "execute_result"
    }
   ],
   "source": [
    "my_list "
   ]
  },
  {
   "cell_type": "code",
   "execution_count": 49,
   "metadata": {},
   "outputs": [],
   "source": [
    "my_list = ['value at the begining', 2, 4, 'orange', 'haha', 'new value', 3]\n",
    "list1 = my_list.copy()\n",
    "list1.clear()"
   ]
  },
  {
   "cell_type": "code",
   "execution_count": 50,
   "metadata": {},
   "outputs": [
    {
     "name": "stdout",
     "output_type": "stream",
     "text": [
      "[]\n",
      "['value at the begining', 2, 4, 'orange', 'haha', 'new value', 3]\n"
     ]
    }
   ],
   "source": [
    "print(list1)\n",
    "print(my_list)"
   ]
  },
  {
   "cell_type": "code",
   "execution_count": 51,
   "metadata": {
    "tags": []
   },
   "outputs": [],
   "source": [
    "list2 = my_list.copy()\n",
    "list3 = my_list.copy()\n",
    "list4 = my_list.copy()"
   ]
  },
  {
   "cell_type": "code",
   "execution_count": 52,
   "metadata": {},
   "outputs": [
    {
     "data": {
      "text/plain": [
       "[2, 4, 'orange', 'haha', 'new value', 3]"
      ]
     },
     "execution_count": 52,
     "metadata": {},
     "output_type": "execute_result"
    }
   ],
   "source": [
    "list2.pop(0)\n",
    "list2"
   ]
  },
  {
   "cell_type": "code",
   "execution_count": 53,
   "metadata": {},
   "outputs": [
    {
     "data": {
      "text/plain": [
       "['value at the begining', 2, 4, 'orange', 'new value', 3]"
      ]
     },
     "execution_count": 53,
     "metadata": {},
     "output_type": "execute_result"
    }
   ],
   "source": [
    "list3.remove('haha')\n",
    "list3"
   ]
  },
  {
   "cell_type": "code",
   "execution_count": 54,
   "metadata": {},
   "outputs": [
    {
     "data": {
      "text/plain": [
       "[2, 4, 'orange', 'haha', 'new value', 3]"
      ]
     },
     "execution_count": 54,
     "metadata": {},
     "output_type": "execute_result"
    }
   ],
   "source": [
    "del list4[0]\n",
    "list4"
   ]
  },
  {
   "cell_type": "markdown",
   "metadata": {
    "tags": []
   },
   "source": [
    "#### List of lists: the objects of a list can be lists"
   ]
  },
  {
   "cell_type": "code",
   "execution_count": 55,
   "metadata": {},
   "outputs": [
    {
     "name": "stdout",
     "output_type": "stream",
     "text": [
      "[2, 'orange', 'carrot', 'potato']\n",
      "[[2, 'orange'], ['carrot', 'potato']]\n"
     ]
    }
   ],
   "source": [
    "x = [2, 'orange']  # x is a list\n",
    "y = ['carrot','potato'] # y is another list\n",
    "\n",
    "k=x+y   # + concatenate two lists: two lists combined into 1 single list \n",
    "print(k)\n",
    "\n",
    "z = [x,y]  # z has two objects, both of them are lists. z is now list of lists\n",
    "print(z)\n",
    "# notice the subtle difference between k and z "
   ]
  },
  {
   "cell_type": "code",
   "execution_count": 56,
   "metadata": {},
   "outputs": [
    {
     "data": {
      "text/plain": [
       "'orange'"
      ]
     },
     "execution_count": 56,
     "metadata": {},
     "output_type": "execute_result"
    }
   ],
   "source": [
    "k[1]"
   ]
  },
  {
   "cell_type": "code",
   "execution_count": 57,
   "metadata": {},
   "outputs": [
    {
     "data": {
      "text/plain": [
       "['carrot', 'potato']"
      ]
     },
     "execution_count": 57,
     "metadata": {},
     "output_type": "execute_result"
    }
   ],
   "source": [
    "z[1]"
   ]
  },
  {
   "cell_type": "markdown",
   "metadata": {},
   "source": [
    "#### Built in List Functions\n",
    "\n",
    "* length of a list, the minimum and maximum (if numerical list) \n"
   ]
  },
  {
   "cell_type": "code",
   "execution_count": 58,
   "metadata": {},
   "outputs": [
    {
     "data": {
      "text/plain": [
       "5"
      ]
     },
     "execution_count": 58,
     "metadata": {},
     "output_type": "execute_result"
    }
   ],
   "source": [
    "# get the length of a list: \n",
    "#len (list name) : this length function will output the length of the list\n",
    "\n",
    "num = [0.3, 3, 5, 8.5, \"a\"]\n",
    "\n",
    "len(num) # length =5: meaning that there are 5 objects in the list called num"
   ]
  },
  {
   "cell_type": "code",
   "execution_count": 59,
   "metadata": {},
   "outputs": [],
   "source": [
    "# min(num)"
   ]
  },
  {
   "cell_type": "code",
   "execution_count": 60,
   "metadata": {},
   "outputs": [
    {
     "name": "stdout",
     "output_type": "stream",
     "text": [
      "[0.3, 3, 5, 8.5]\n"
     ]
    }
   ],
   "source": [
    "# for minimum and maximum: we have to remove the string \"a\" first: can only perform the max/min for lists containing of all integers/floats\n",
    "del num[-1]   #-1: means the last object in the list. \n",
    "print(num)"
   ]
  },
  {
   "cell_type": "code",
   "execution_count": 61,
   "metadata": {},
   "outputs": [
    {
     "name": "stdout",
     "output_type": "stream",
     "text": [
      "minimum and maximum:  0.3  and  8.5\n"
     ]
    }
   ],
   "source": [
    "print(\"minimum and maximum: \", min(num), \" and \", max(num))\n",
    "# last thing: if you want to clear all the output and restart the kernel\n",
    "# click on Kernel  - restart kernel and clear all outputs"
   ]
  },
  {
   "cell_type": "markdown",
   "metadata": {},
   "source": [
    "## if,elif, else Statements"
   ]
  },
  {
   "cell_type": "code",
   "execution_count": 62,
   "metadata": {},
   "outputs": [],
   "source": [
    "x = 4\n",
    "\n",
    "if x > 5:    # if the statement is true: then perfrom the following action. Otherwise, do nothing.\n",
    "    print('x is greater than 5')"
   ]
  },
  {
   "cell_type": "code",
   "execution_count": 63,
   "metadata": {},
   "outputs": [
    {
     "name": "stdout",
     "output_type": "stream",
     "text": [
      "x does not equal to 5\n"
     ]
    }
   ],
   "source": [
    "x = 4\n",
    "\n",
    "if x == 5:\n",
    "    print('x equals 5')\n",
    "else:      # for all other cases where x is not equal to (!=) 5, perform the following action: \n",
    "    print('x does not equal to 5')"
   ]
  },
  {
   "cell_type": "code",
   "execution_count": 64,
   "metadata": {},
   "outputs": [
    {
     "name": "stdout",
     "output_type": "stream",
     "text": [
      "x is smaller 5\n"
     ]
    }
   ],
   "source": [
    "x = 4\n",
    "\n",
    "if x == 5:\n",
    "    print('x equals 5')\n",
    "elif x > 5:\n",
    "    print('x is bigger than 5')\n",
    "else:      # for all other cases where x is not equal to (!=) 5, perform the following action: \n",
    "    print('x is smaller 5')"
   ]
  },
  {
   "cell_type": "markdown",
   "metadata": {
    "tags": []
   },
   "source": [
    "### Python Indentation\n",
    "Indentation refers to the spaces at the beginning of a code line.\n",
    "\n",
    "Where in other programming languages the indentation in code is for readability only, the indentation in Python is very important."
   ]
  },
  {
   "cell_type": "code",
   "execution_count": 65,
   "metadata": {
    "scrolled": true
   },
   "outputs": [],
   "source": [
    "# # Error \n",
    "# x = 4\n",
    "# if x == 5:\n",
    "#     print('x equals 5')\n",
    "#     else:\n",
    "#         print('x does not equal to 5')\n",
    "        "
   ]
  },
  {
   "cell_type": "markdown",
   "metadata": {},
   "source": [
    "## for Loops"
   ]
  },
  {
   "cell_type": "code",
   "execution_count": 66,
   "metadata": {
    "tags": []
   },
   "outputs": [
    {
     "name": "stdout",
     "output_type": "stream",
     "text": [
      "1\n",
      "2\n",
      "3\n",
      "4\n",
      "5\n"
     ]
    }
   ],
   "source": [
    "for num in [1,2,3,4,5]:\n",
    "    print(num)"
   ]
  },
  {
   "cell_type": "code",
   "execution_count": 67,
   "metadata": {},
   "outputs": [
    {
     "name": "stdout",
     "output_type": "stream",
     "text": [
      "0\n",
      "1\n",
      "2\n",
      "3\n",
      "4\n"
     ]
    }
   ],
   "source": [
    "for num in range(5):\n",
    "    print(num)"
   ]
  },
  {
   "cell_type": "code",
   "execution_count": 68,
   "metadata": {},
   "outputs": [
    {
     "name": "stdout",
     "output_type": "stream",
     "text": [
      "1\n",
      "2\n",
      "3\n",
      "4\n",
      "5\n"
     ]
    }
   ],
   "source": [
    "for num in range(5):\n",
    "    print(num+1)"
   ]
  },
  {
   "cell_type": "code",
   "execution_count": 69,
   "metadata": {
    "tags": []
   },
   "outputs": [
    {
     "name": "stdout",
     "output_type": "stream",
     "text": [
      "[1, 2, 3]\n",
      "[4, 5, 6]\n",
      "[7, 8, 9]\n"
     ]
    }
   ],
   "source": [
    "list_of_lists = [[1, 2, 3],\n",
    "                 [4, 5, 6],\n",
    "                 [7, 8, 9]]\n",
    "\n",
    "for sub_list in list_of_lists:\n",
    "    print(sub_list)"
   ]
  },
  {
   "cell_type": "code",
   "execution_count": 70,
   "metadata": {},
   "outputs": [
    {
     "data": {
      "text/plain": [
       "[1, 2, 3]"
      ]
     },
     "execution_count": 70,
     "metadata": {},
     "output_type": "execute_result"
    }
   ],
   "source": [
    "list_of_lists = [[1, 2, 3],\n",
    "                 [4, 5, 6],\n",
    "                 [7, 8, 9]]\n",
    "\n",
    "sub_list=list_of_lists[0]\n",
    "sub_list"
   ]
  },
  {
   "cell_type": "code",
   "execution_count": 71,
   "metadata": {},
   "outputs": [
    {
     "data": {
      "text/plain": [
       "1"
      ]
     },
     "execution_count": 71,
     "metadata": {},
     "output_type": "execute_result"
    }
   ],
   "source": [
    "list_of_lists[0][0]"
   ]
  },
  {
   "cell_type": "code",
   "execution_count": 72,
   "metadata": {},
   "outputs": [
    {
     "data": {
      "text/plain": [
       "2"
      ]
     },
     "execution_count": 72,
     "metadata": {},
     "output_type": "execute_result"
    }
   ],
   "source": [
    "list_of_lists[0][1]"
   ]
  },
  {
   "cell_type": "code",
   "execution_count": 73,
   "metadata": {
    "tags": []
   },
   "outputs": [
    {
     "name": "stdout",
     "output_type": "stream",
     "text": [
      "1\n",
      "2\n",
      "3\n",
      "4\n",
      "5\n",
      "6\n",
      "7\n",
      "8\n",
      "9\n"
     ]
    }
   ],
   "source": [
    "# double for-loop\n",
    "for sub_list in list_of_lists:\n",
    "    \n",
    "    for my_object in sub_list:\n",
    "        \n",
    "        print(my_object)"
   ]
  },
  {
   "cell_type": "markdown",
   "metadata": {},
   "source": [
    "## list comprehension\n",
    "Python List comprehension provides a much more short syntax for creating a new list based on the values of an existing list."
   ]
  },
  {
   "cell_type": "code",
   "execution_count": 74,
   "metadata": {},
   "outputs": [
    {
     "name": "stdout",
     "output_type": "stream",
     "text": [
      "[3, 6, 9, 12, 15]\n"
     ]
    }
   ],
   "source": [
    "x = [1,2,3,4,5]\n",
    "my_list = [] \n",
    "for i in x:\n",
    "    my_list.append(i*3)\n",
    "print(my_list)\n",
    "\n",
    "# we can do all this in one line"
   ]
  },
  {
   "cell_type": "code",
   "execution_count": 75,
   "metadata": {},
   "outputs": [
    {
     "data": {
      "text/plain": [
       "[3, 6, 9, 12, 15]"
      ]
     },
     "execution_count": 75,
     "metadata": {},
     "output_type": "execute_result"
    }
   ],
   "source": [
    "[y*3 for y in [1,2,3,4,5]]   "
   ]
  },
  {
   "cell_type": "markdown",
   "metadata": {
    "tags": []
   },
   "source": [
    "## Function\n",
    "\n",
    "### you can write your own functions in Python \n",
    "\n",
    "Function: you give me some inputs, the function will output some results. \n",
    "\n",
    "### Python Grammar: \n",
    "\n",
    "def   function_name(input1, input2, input3...):\n",
    "\n",
    "(here you define what your function does to the inputs: input1 2 and 3)\n",
    "\n",
    "return output\n",
    "\n",
    "### After you have defined your function, to use a function, just write down:\n",
    "function_name (input1, input2, input3)  \n",
    "\n",
    "An example of function that multiply two inputs:"
   ]
  },
  {
   "cell_type": "code",
   "execution_count": 76,
   "metadata": {},
   "outputs": [],
   "source": [
    "def multiply(x, y):   # our function's name is multiply(). it takes two inputs, x, and y.\n",
    "    c = x*y    # our function will multiply the two numbers\n",
    "    return c  # our function will output the result of the multiplication. "
   ]
  },
  {
   "cell_type": "code",
   "execution_count": 77,
   "metadata": {},
   "outputs": [
    {
     "data": {
      "text/plain": [
       "8"
      ]
     },
     "execution_count": 77,
     "metadata": {},
     "output_type": "execute_result"
    }
   ],
   "source": [
    "multiply(2,4)"
   ]
  },
  {
   "cell_type": "code",
   "execution_count": 78,
   "metadata": {},
   "outputs": [
    {
     "data": {
      "text/plain": [
       "15"
      ]
     },
     "execution_count": 78,
     "metadata": {},
     "output_type": "execute_result"
    }
   ],
   "source": [
    "multiply (3,5)"
   ]
  },
  {
   "cell_type": "code",
   "execution_count": 79,
   "metadata": {},
   "outputs": [],
   "source": [
    "#now suppose we want to check if the multiply of 2 integers is greater than 15\n",
    "def multiply_biggerthan12(x, y):   # our function's name is multiply(). it takes two inputs, x, and y.\n",
    "    c = x*y    # our function will multiply the two numbers\n",
    "    return c>12  # our function will output a boollean variable which tells us if x*y is greater than or equal to 15 "
   ]
  },
  {
   "cell_type": "code",
   "execution_count": 80,
   "metadata": {},
   "outputs": [
    {
     "data": {
      "text/plain": [
       "True"
      ]
     },
     "execution_count": 80,
     "metadata": {},
     "output_type": "execute_result"
    }
   ],
   "source": [
    "multiply_biggerthan12(3,5)"
   ]
  }
 ],
 "metadata": {
  "anaconda-cloud": {},
  "kernelspec": {
   "display_name": "Python 3 (ipykernel)",
   "language": "python",
   "name": "python3"
  },
  "language_info": {
   "codemirror_mode": {
    "name": "ipython",
    "version": 3
   },
   "file_extension": ".py",
   "mimetype": "text/x-python",
   "name": "python",
   "nbconvert_exporter": "python",
   "pygments_lexer": "ipython3",
   "version": "3.9.12"
  },
  "latex_envs": {
   "LaTeX_envs_menu_present": true,
   "autocomplete": true,
   "bibliofile": "biblio.bib",
   "cite_by": "apalike",
   "current_citInitial": 1,
   "eqLabelWithNumbers": true,
   "eqNumInitial": 1,
   "hotkeys": {
    "equation": "Ctrl-E",
    "itemize": "Ctrl-I"
   },
   "labels_anchors": false,
   "latex_user_defs": false,
   "report_style_numbering": false,
   "user_envs_cfg": false
  },
  "varInspector": {
   "cols": {
    "lenName": 16,
    "lenType": 16,
    "lenVar": 40
   },
   "kernels_config": {
    "python": {
     "delete_cmd_postfix": "",
     "delete_cmd_prefix": "del ",
     "library": "var_list.py",
     "varRefreshCmd": "print(var_dic_list())"
    },
    "r": {
     "delete_cmd_postfix": ") ",
     "delete_cmd_prefix": "rm(",
     "library": "var_list.r",
     "varRefreshCmd": "cat(var_dic_list()) "
    }
   },
   "types_to_exclude": [
    "module",
    "function",
    "builtin_function_or_method",
    "instance",
    "_Feature"
   ],
   "window_display": false
  }
 },
 "nbformat": 4,
 "nbformat_minor": 4
}
