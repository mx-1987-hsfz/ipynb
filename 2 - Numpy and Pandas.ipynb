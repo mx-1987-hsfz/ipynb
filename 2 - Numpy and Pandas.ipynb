{
 "cells": [
  {
   "cell_type": "markdown",
   "metadata": {},
   "source": [
    "# NumPy: number Python"
   ]
  },
  {
   "cell_type": "markdown",
   "metadata": {},
   "source": [
    "NumPy is the cornerstone of scientific computing in the python community.\n",
    "\n",
    "* The `numpy` package (module) is used in almost all numerical computations using Python. It is a package that provides high-performance vector, matrix, and higher-dimensional data structures for Python. It is implemented in C and Fortran, and the computational performance is very efficient.\n"
   ]
  },
  {
   "cell_type": "code",
   "execution_count": 1,
   "metadata": {},
   "outputs": [],
   "source": [
    "# import the library\n",
    "import numpy as np  #now you can use np as the abbreviation for numpy. "
   ]
  },
  {
   "cell_type": "markdown",
   "metadata": {
    "tags": []
   },
   "source": [
    "##  1. NumPy Arrays\n",
    "The objects in NumPy are numpy arrays and are handled in a way similar to Python lists with many additional functions. "
   ]
  },
  {
   "cell_type": "code",
   "execution_count": 2,
   "metadata": {},
   "outputs": [
    {
     "data": {
      "text/plain": [
       "[1, 2, 7, 18, 4]"
      ]
     },
     "execution_count": 2,
     "metadata": {},
     "output_type": "execute_result"
    }
   ],
   "source": [
    "# create a Python list\n",
    "my_list = [1,2,7,18,4]\n",
    "my_list"
   ]
  },
  {
   "cell_type": "code",
   "execution_count": 3,
   "metadata": {},
   "outputs": [
    {
     "data": {
      "text/plain": [
       "array([ 1,  2,  7, 18,  4])"
      ]
     },
     "execution_count": 3,
     "metadata": {},
     "output_type": "execute_result"
    }
   ],
   "source": [
    "# create a numpy array out of the list\n",
    "my_array = np.array(my_list)\n",
    "my_array"
   ]
  },
  {
   "cell_type": "code",
   "execution_count": 4,
   "metadata": {},
   "outputs": [
    {
     "data": {
      "text/plain": [
       "list"
      ]
     },
     "execution_count": 4,
     "metadata": {},
     "output_type": "execute_result"
    }
   ],
   "source": [
    "type(my_list)"
   ]
  },
  {
   "cell_type": "code",
   "execution_count": 5,
   "metadata": {},
   "outputs": [
    {
     "data": {
      "text/plain": [
       "numpy.ndarray"
      ]
     },
     "execution_count": 5,
     "metadata": {},
     "output_type": "execute_result"
    }
   ],
   "source": [
    "# check the data type for my_array\n",
    "type(my_array)"
   ]
  },
  {
   "cell_type": "code",
   "execution_count": 6,
   "metadata": {},
   "outputs": [
    {
     "data": {
      "text/plain": [
       "array([0, 1, 2, 3])"
      ]
     },
     "execution_count": 6,
     "metadata": {},
     "output_type": "execute_result"
    }
   ],
   "source": [
    "# Built in methods\n",
    "# np.arange(a,b,c) :Return evenly spaced values within a given interval [a,b) with a step of c.\n",
    "# step is the number that defines the spacing (difference) between each two consecutive values in the array and defaults to 1\n",
    "np.arange(0,4)"
   ]
  },
  {
   "cell_type": "code",
   "execution_count": 7,
   "metadata": {},
   "outputs": [
    {
     "data": {
      "text/plain": [
       "array([0, 3, 6, 9])"
      ]
     },
     "execution_count": 7,
     "metadata": {},
     "output_type": "execute_result"
    }
   ],
   "source": [
    "# c=3\n",
    "np.arange(0,10,3)"
   ]
  },
  {
   "cell_type": "code",
   "execution_count": 8,
   "metadata": {},
   "outputs": [
    {
     "data": {
      "text/plain": [
       "array([0., 0., 0., 0., 0.])"
      ]
     },
     "execution_count": 8,
     "metadata": {},
     "output_type": "execute_result"
    }
   ],
   "source": [
    "# Return a new array of given shape and type, filled with zeros.\n",
    "np.zeros(5) "
   ]
  },
  {
   "cell_type": "code",
   "execution_count": 9,
   "metadata": {},
   "outputs": [
    {
     "data": {
      "text/plain": [
       "array([[0., 0., 0., 0., 0.],\n",
       "       [0., 0., 0., 0., 0.],\n",
       "       [0., 0., 0., 0., 0.],\n",
       "       [0., 0., 0., 0., 0.],\n",
       "       [0., 0., 0., 0., 0.]])"
      ]
     },
     "execution_count": 9,
     "metadata": {},
     "output_type": "execute_result"
    }
   ],
   "source": [
    "np.zeros((5,5)) \n",
    "# generate a 5*5 array filled with zeros."
   ]
  },
  {
   "cell_type": "code",
   "execution_count": 10,
   "metadata": {},
   "outputs": [
    {
     "data": {
      "text/plain": [
       "array([[0, 0, 0, 0, 0],\n",
       "       [0, 0, 0, 0, 0],\n",
       "       [0, 0, 0, 0, 0],\n",
       "       [0, 0, 0, 0, 0],\n",
       "       [0, 0, 0, 0, 0]])"
      ]
     },
     "execution_count": 10,
     "metadata": {},
     "output_type": "execute_result"
    }
   ],
   "source": [
    "np.zeros((5,5),dtype=int) # if you want all values to be interger"
   ]
  },
  {
   "cell_type": "code",
   "execution_count": 11,
   "metadata": {},
   "outputs": [
    {
     "data": {
      "text/plain": [
       "array([1., 1., 1., 1., 1.])"
      ]
     },
     "execution_count": 11,
     "metadata": {},
     "output_type": "execute_result"
    }
   ],
   "source": [
    "# Return a new array of given shape and type, filled with ones.\n",
    "np.ones(5)"
   ]
  },
  {
   "cell_type": "code",
   "execution_count": 12,
   "metadata": {},
   "outputs": [
    {
     "data": {
      "text/plain": [
       "array([[1., 1., 1., 1., 1.],\n",
       "       [1., 1., 1., 1., 1.],\n",
       "       [1., 1., 1., 1., 1.],\n",
       "       [1., 1., 1., 1., 1.],\n",
       "       [1., 1., 1., 1., 1.]])"
      ]
     },
     "execution_count": 12,
     "metadata": {},
     "output_type": "execute_result"
    }
   ],
   "source": [
    "np.ones((5,5))"
   ]
  },
  {
   "cell_type": "code",
   "execution_count": 13,
   "metadata": {},
   "outputs": [
    {
     "data": {
      "text/plain": [
       "array([0.35439072, 0.02437259, 0.63007634])"
      ]
     },
     "execution_count": 13,
     "metadata": {},
     "output_type": "execute_result"
    }
   ],
   "source": [
    "# rand : create random samples from a uniform distribution from 0 to 1\n",
    "y=np.random.rand(3)  \n",
    "y"
   ]
  },
  {
   "cell_type": "code",
   "execution_count": 14,
   "metadata": {},
   "outputs": [
    {
     "data": {
      "text/plain": [
       "array([[0.70383076, 0.81394   , 0.76931436],\n",
       "       [0.88832202, 0.3737811 , 0.47416959],\n",
       "       [0.4396101 , 0.22561131, 0.32282499]])"
      ]
     },
     "execution_count": 14,
     "metadata": {},
     "output_type": "execute_result"
    }
   ],
   "source": [
    "x = np.random.rand(3, 3)  # uniform distribution from 0 to 1. a 3*3 array\n",
    "x"
   ]
  },
  {
   "cell_type": "code",
   "execution_count": 15,
   "metadata": {},
   "outputs": [],
   "source": [
    "# np.random.    #use Tab to search the available functions"
   ]
  },
  {
   "cell_type": "code",
   "execution_count": 16,
   "metadata": {},
   "outputs": [
    {
     "data": {
      "text/plain": [
       "array([-1.74162762,  0.95683044, -0.15282362,  0.4675587 , -1.4683796 ])"
      ]
     },
     "execution_count": 16,
     "metadata": {},
     "output_type": "execute_result"
    }
   ],
   "source": [
    "# randn : create random samples from standard normal distribution （mean 0 and std 1）\n",
    "np.random.randn(5)"
   ]
  },
  {
   "cell_type": "code",
   "execution_count": 17,
   "metadata": {},
   "outputs": [
    {
     "data": {
      "text/plain": [
       "array([[ 1.25487712,  0.77393837, -0.46627387, -0.48920982,  0.87150751],\n",
       "       [-1.56511044, -0.74850147,  0.1092666 ,  0.40238865,  0.08737294],\n",
       "       [ 1.50056235,  0.85014037,  0.23438452, -0.70409758,  1.45063604],\n",
       "       [ 0.82982006,  2.56920153,  0.64178998, -0.63943294, -0.9794917 ],\n",
       "       [-1.37424461, -1.07312177,  1.71668945, -0.91889073, -0.331414  ]])"
      ]
     },
     "execution_count": 17,
     "metadata": {},
     "output_type": "execute_result"
    }
   ],
   "source": [
    "np.random.randn(5,5)"
   ]
  },
  {
   "cell_type": "code",
   "execution_count": 18,
   "metadata": {},
   "outputs": [
    {
     "data": {
      "text/plain": [
       "4"
      ]
     },
     "execution_count": 18,
     "metadata": {},
     "output_type": "execute_result"
    }
   ],
   "source": [
    "# randint(a,b) : create random sample of integers from a (including a) to b (excluding b) \n",
    "np.random.randint(1,5)"
   ]
  },
  {
   "cell_type": "code",
   "execution_count": 19,
   "metadata": {},
   "outputs": [
    {
     "data": {
      "text/plain": [
       "array([2, 1, 4, 2, 2, 3, 3, 4, 4, 1, 1, 4, 3, 1, 4, 2, 3, 4, 4, 3])"
      ]
     },
     "execution_count": 19,
     "metadata": {},
     "output_type": "execute_result"
    }
   ],
   "source": [
    "np.random.randint(1,5,20) \n",
    "# generate 20 random numbers, each of them are random interger drawn from [1,5)"
   ]
  },
  {
   "cell_type": "code",
   "execution_count": 20,
   "metadata": {},
   "outputs": [
    {
     "data": {
      "text/plain": [
       "array([ 0.72251164, -0.79830767,  0.84793415, -0.48114253,  2.04130115])"
      ]
     },
     "execution_count": 20,
     "metadata": {},
     "output_type": "execute_result"
    }
   ],
   "source": [
    "# run multiple times, each time you will get different random numbers \n",
    "np.random.randn(5)"
   ]
  },
  {
   "cell_type": "code",
   "execution_count": 21,
   "metadata": {},
   "outputs": [
    {
     "data": {
      "text/plain": [
       "array([-1.74976547,  0.3426804 ,  1.1530358 , -0.25243604,  0.98132079])"
      ]
     },
     "execution_count": 21,
     "metadata": {},
     "output_type": "execute_result"
    }
   ],
   "source": [
    "# seed is used to fix the random state.\n",
    "np.random.seed(100)\n",
    "np.random.randn(5)"
   ]
  },
  {
   "cell_type": "code",
   "execution_count": 22,
   "metadata": {},
   "outputs": [
    {
     "data": {
      "text/plain": [
       "array([-1.0856306 ,  0.99734545,  0.2829785 , -1.50629471, -0.57860025])"
      ]
     },
     "execution_count": 22,
     "metadata": {},
     "output_type": "execute_result"
    }
   ],
   "source": [
    "# you can choose another seed, once a seed is selected, the random number generated will always keep the same\n",
    "# however, seed(100) generates different numbers from seed(123)\n",
    "np.random.seed(123)\n",
    "np.random.randn(5)"
   ]
  },
  {
   "cell_type": "code",
   "execution_count": 23,
   "metadata": {},
   "outputs": [
    {
     "name": "stdout",
     "output_type": "stream",
     "text": [
      "[-1.74976547  0.3426804   1.1530358  -0.25243604  0.98132079]\n",
      "[ 0.51421884  0.22117967 -1.07004333 -0.18949583  0.25500144]\n"
     ]
    }
   ],
   "source": [
    "# seed is only valid (generate the same random numbers) once\n",
    "np.random.seed(100)\n",
    "x=np.random.randn(5)\n",
    "print(x)\n",
    "\n",
    "# np.random.seed(100)\n",
    "y=np.random.randn(5)\n",
    "print(y)"
   ]
  },
  {
   "cell_type": "code",
   "execution_count": 24,
   "metadata": {},
   "outputs": [
    {
     "data": {
      "text/plain": [
       "array([1, 2, 3, 4, 5, 6, 7, 8, 9])"
      ]
     },
     "execution_count": 24,
     "metadata": {},
     "output_type": "execute_result"
    }
   ],
   "source": [
    "# array methods\n",
    "my_array = np.arange(1,10)\n",
    "my_array"
   ]
  },
  {
   "cell_type": "code",
   "execution_count": 25,
   "metadata": {},
   "outputs": [
    {
     "data": {
      "text/plain": [
       "array([[1, 2, 3],\n",
       "       [4, 5, 6],\n",
       "       [7, 8, 9]])"
      ]
     },
     "execution_count": 25,
     "metadata": {},
     "output_type": "execute_result"
    }
   ],
   "source": [
    "# reshape the above array into a 3*3 array\n",
    "new_array = my_array.reshape(3,3)\n",
    "new_array"
   ]
  },
  {
   "cell_type": "code",
   "execution_count": 26,
   "metadata": {},
   "outputs": [
    {
     "data": {
      "text/plain": [
       "array([   1,    2,    3,    4,    5,    6,    7,    8,    9,  100, -100])"
      ]
     },
     "execution_count": 26,
     "metadata": {},
     "output_type": "execute_result"
    }
   ],
   "source": [
    "# append additional objects to the end of my_array\n",
    "my_array = np.append(my_array, [100,-100])\n",
    "my_array"
   ]
  },
  {
   "cell_type": "code",
   "execution_count": 27,
   "metadata": {},
   "outputs": [
    {
     "name": "stdout",
     "output_type": "stream",
     "text": [
      "max value:  100\n",
      "min value:  -100\n"
     ]
    }
   ],
   "source": [
    "#calculate the maximum and minimum of my_array\n",
    "print(\"max value: \", my_array.max())\n",
    "print(\"min value: \", my_array.min())\n"
   ]
  },
  {
   "cell_type": "markdown",
   "metadata": {},
   "source": [
    "## 2. Numpy indexing and extraction"
   ]
  },
  {
   "cell_type": "markdown",
   "metadata": {},
   "source": [
    "Like lists you access elements in a NumPy array the same way by indexing and slicing."
   ]
  },
  {
   "cell_type": "code",
   "execution_count": 28,
   "metadata": {},
   "outputs": [
    {
     "data": {
      "text/plain": [
       "array([ 1,  2,  3,  4,  5,  6,  7,  8,  9, 10])"
      ]
     },
     "execution_count": 28,
     "metadata": {},
     "output_type": "execute_result"
    }
   ],
   "source": [
    "my_array = np.arange(1,11)\n",
    "my_array"
   ]
  },
  {
   "cell_type": "code",
   "execution_count": 29,
   "metadata": {},
   "outputs": [
    {
     "data": {
      "text/plain": [
       "2"
      ]
     },
     "execution_count": 29,
     "metadata": {},
     "output_type": "execute_result"
    }
   ],
   "source": [
    "# extraction is very similar to list extraction\n",
    "my_array[1]"
   ]
  },
  {
   "cell_type": "code",
   "execution_count": 30,
   "metadata": {},
   "outputs": [
    {
     "data": {
      "text/plain": [
       "array([7, 8, 9])"
      ]
     },
     "execution_count": 30,
     "metadata": {},
     "output_type": "execute_result"
    }
   ],
   "source": [
    "my_array[6:9]"
   ]
  },
  {
   "cell_type": "code",
   "execution_count": 31,
   "metadata": {},
   "outputs": [
    {
     "data": {
      "text/plain": [
       "array([100, 100, 100, 100, 100,   6,   7,   8,   9,  10])"
      ]
     },
     "execution_count": 31,
     "metadata": {},
     "output_type": "execute_result"
    }
   ],
   "source": [
    "# With NumPy arrays, you can broadcast a single value across a larger set of values. This is not possible using lists. \n",
    "my_array[0:5]=100\n",
    "my_array"
   ]
  },
  {
   "cell_type": "code",
   "execution_count": 32,
   "metadata": {},
   "outputs": [
    {
     "data": {
      "text/plain": [
       "[1, 2, 3, 4, 5, 6, 7, 8, 9, 10]"
      ]
     },
     "execution_count": 32,
     "metadata": {},
     "output_type": "execute_result"
    }
   ],
   "source": [
    "my_list = list(range(1,11))\n",
    "my_list"
   ]
  },
  {
   "cell_type": "code",
   "execution_count": 33,
   "metadata": {},
   "outputs": [],
   "source": [
    "# my_list[0:2]=100"
   ]
  },
  {
   "cell_type": "code",
   "execution_count": 34,
   "metadata": {},
   "outputs": [
    {
     "data": {
      "text/plain": [
       "[100, 100, 3, 4, 5, 6, 7, 8, 9, 10]"
      ]
     },
     "execution_count": 34,
     "metadata": {},
     "output_type": "execute_result"
    }
   ],
   "source": [
    "# you have to list all values you want to change\n",
    "my_list[0:2]=[100,100]\n",
    "my_list"
   ]
  },
  {
   "cell_type": "markdown",
   "metadata": {},
   "source": [
    "### Extracting with conditional selection\n"
   ]
  },
  {
   "cell_type": "code",
   "execution_count": 35,
   "metadata": {},
   "outputs": [
    {
     "data": {
      "text/plain": [
       "array([100, 100, 100, 100, 100,   6,   7,   8,   9,  10])"
      ]
     },
     "execution_count": 35,
     "metadata": {},
     "output_type": "execute_result"
    }
   ],
   "source": [
    "my_array"
   ]
  },
  {
   "cell_type": "code",
   "execution_count": 36,
   "metadata": {},
   "outputs": [],
   "source": [
    "condition = (my_array >= 10)"
   ]
  },
  {
   "cell_type": "code",
   "execution_count": 37,
   "metadata": {},
   "outputs": [
    {
     "data": {
      "text/plain": [
       "array([100, 100, 100, 100, 100,  10])"
      ]
     },
     "execution_count": 37,
     "metadata": {},
     "output_type": "execute_result"
    }
   ],
   "source": [
    "my_array[condition]"
   ]
  },
  {
   "cell_type": "code",
   "execution_count": 38,
   "metadata": {},
   "outputs": [
    {
     "data": {
      "text/plain": [
       "array([ 0,  1,  2,  3,  4,  5,  6,  7,  8,  9, 10, 11, 12, 13, 14, 15, 16,\n",
       "       17, 18, 19, 20, 21, 22, 23, 24, 25, 26, 27, 28, 29, 30, 31, 32, 33,\n",
       "       34, 35, 36, 37, 38, 39, 40, 41, 42, 43, 44, 45, 46, 47, 48, 49, 50,\n",
       "       51, 52, 53, 54, 55, 56, 57, 58, 59, 60, 61, 62, 63, 64, 65, 66, 67,\n",
       "       68, 69, 70, 71, 72, 73, 74, 75, 76, 77, 78, 79, 80, 81, 82, 83, 84,\n",
       "       85, 86, 87, 88, 89, 90, 91, 92, 93, 94, 95, 96, 97, 98, 99])"
      ]
     },
     "execution_count": 38,
     "metadata": {},
     "output_type": "execute_result"
    }
   ],
   "source": [
    "#another example \n",
    "my_array = np.arange(100)\n",
    "my_array"
   ]
  },
  {
   "cell_type": "code",
   "execution_count": 39,
   "metadata": {},
   "outputs": [
    {
     "data": {
      "text/plain": [
       "array([51, 52, 53, 54, 55, 56, 57, 58, 59, 60, 61, 62, 63, 64, 65, 66, 67,\n",
       "       68, 69, 70, 71, 72, 73, 74, 75, 76, 77, 78, 79, 80, 81, 82, 83, 84,\n",
       "       85, 86, 87, 88, 89, 90, 91, 92, 93, 94, 95, 96, 97, 98, 99])"
      ]
     },
     "execution_count": 39,
     "metadata": {},
     "output_type": "execute_result"
    }
   ],
   "source": [
    "my_array[my_array > 50]"
   ]
  },
  {
   "cell_type": "markdown",
   "metadata": {},
   "source": [
    "## 3. Numpy operations"
   ]
  },
  {
   "cell_type": "code",
   "execution_count": 40,
   "metadata": {},
   "outputs": [
    {
     "data": {
      "text/plain": [
       "[2, 4, 3, 5]"
      ]
     },
     "execution_count": 40,
     "metadata": {},
     "output_type": "execute_result"
    }
   ],
   "source": [
    "x = [2, 4]\n",
    "y = [3, 5]\n",
    "x+y"
   ]
  },
  {
   "cell_type": "markdown",
   "metadata": {
    "tags": []
   },
   "source": [
    "List: +  concatenation of two lists\n",
    "\n",
    "Numpy arrays: +: performing arithmetic operations on each object of the numpy arrays\n"
   ]
  },
  {
   "cell_type": "code",
   "execution_count": 41,
   "metadata": {},
   "outputs": [
    {
     "name": "stdout",
     "output_type": "stream",
     "text": [
      "[2, 3, 4, 5]\n",
      "[2, 3, 2, 3, 2, 3]\n"
     ]
    }
   ],
   "source": [
    "# recall from previous class on Python Lists: \n",
    "x = [2, 3]  # x is a list\n",
    "y = [4, 5] # y is another list\n",
    "\n",
    "k=x+y \n",
    "j=x*3  #for a list: *3: meaning concatenate the same list three times.\n",
    "\n",
    "print (k)\n",
    "print (j)\n",
    "\n",
    "#q=x/3  # / (division): you can not divide a list\n",
    "#i=x-y   # - : also not supported for Python lists. \n",
    "# Key take-away: don't think of Python lists as Vectors. "
   ]
  },
  {
   "cell_type": "code",
   "execution_count": 42,
   "metadata": {
    "tags": []
   },
   "outputs": [],
   "source": [
    "# now for np arrays: \n",
    "x = [2,3]  # x is a list\n",
    "y = [4,5] # y is another list\n",
    "\n",
    "x_array = np.array(x)\n",
    "y_array = np.array(y)"
   ]
  },
  {
   "cell_type": "code",
   "execution_count": 43,
   "metadata": {},
   "outputs": [
    {
     "data": {
      "text/plain": [
       "array([6, 8])"
      ]
     },
     "execution_count": 43,
     "metadata": {},
     "output_type": "execute_result"
    }
   ],
   "source": [
    "x_array + y_array   # think about arrays as two vectors: \n",
    "# recall how do we do vector addition: add the elements one by one. "
   ]
  },
  {
   "cell_type": "code",
   "execution_count": 44,
   "metadata": {},
   "outputs": [
    {
     "data": {
      "text/plain": [
       "array([18, 24])"
      ]
     },
     "execution_count": 44,
     "metadata": {},
     "output_type": "execute_result"
    }
   ],
   "source": [
    "(x_array + y_array)*3"
   ]
  },
  {
   "cell_type": "code",
   "execution_count": 45,
   "metadata": {},
   "outputs": [
    {
     "data": {
      "text/plain": [
       "array([-2, -2])"
      ]
     },
     "execution_count": 45,
     "metadata": {},
     "output_type": "execute_result"
    }
   ],
   "source": [
    "x_array - y_array "
   ]
  },
  {
   "cell_type": "code",
   "execution_count": 46,
   "metadata": {},
   "outputs": [
    {
     "data": {
      "text/plain": [
       "array([ 8, 15])"
      ]
     },
     "execution_count": 46,
     "metadata": {},
     "output_type": "execute_result"
    }
   ],
   "source": [
    "x_array * y_array "
   ]
  },
  {
   "cell_type": "code",
   "execution_count": 47,
   "metadata": {},
   "outputs": [
    {
     "data": {
      "text/plain": [
       "array([0.5, 0.6])"
      ]
     },
     "execution_count": 47,
     "metadata": {},
     "output_type": "execute_result"
    }
   ],
   "source": [
    "x_array / y_array "
   ]
  },
  {
   "cell_type": "markdown",
   "metadata": {},
   "source": [
    "### Easy access to basic stats\n"
   ]
  },
  {
   "cell_type": "code",
   "execution_count": 48,
   "metadata": {},
   "outputs": [
    {
     "data": {
      "text/plain": [
       "array([-1.0856306 ,  0.99734545,  0.2829785 , -1.50629471, -0.57860025,\n",
       "        1.65143654, -2.42667924, -0.42891263,  1.26593626, -0.8667404 ,\n",
       "       -0.67888615, -0.09470897,  1.49138963, -0.638902  , -0.44398196,\n",
       "       -0.43435128,  2.20593008,  2.18678609,  1.0040539 ,  0.3861864 ,\n",
       "        0.73736858,  1.49073203, -0.93583387,  1.17582904, -1.25388067,\n",
       "       -0.6377515 ,  0.9071052 , -1.4286807 , -0.14006872, -0.8617549 ,\n",
       "       -0.25561937, -2.79858911, -1.7715331 , -0.69987723,  0.92746243,\n",
       "       -0.17363568,  0.00284592,  0.68822271, -0.87953634,  0.28362732,\n",
       "       -0.80536652, -1.72766949, -0.39089979,  0.57380586,  0.33858905,\n",
       "       -0.01183049,  2.39236527,  0.41291216,  0.97873601,  2.23814334,\n",
       "       -1.29408532, -1.03878821,  1.74371223, -0.79806274,  0.02968323,\n",
       "        1.06931597,  0.89070639,  1.75488618,  1.49564414,  1.06939267,\n",
       "       -0.77270871,  0.79486267,  0.31427199, -1.32626546,  1.41729905,\n",
       "        0.80723653,  0.04549008, -0.23309206, -1.19830114,  0.19952407,\n",
       "        0.46843912, -0.83115498,  1.16220405, -1.09720305, -2.12310035,\n",
       "        1.03972709, -0.40336604, -0.12602959, -0.83751672, -1.60596276,\n",
       "        1.25523737, -0.68886898,  1.66095249,  0.80730819, -0.31475815,\n",
       "       -1.0859024 , -0.73246199, -1.21252313,  2.08711336,  0.16444123,\n",
       "        1.15020554, -1.26735205,  0.18103513,  1.17786194, -0.33501076,\n",
       "        1.03111446, -1.08456791, -1.36347154,  0.37940061, -0.37917643])"
      ]
     },
     "execution_count": 48,
     "metadata": {},
     "output_type": "execute_result"
    }
   ],
   "source": [
    "np.random.seed(123)\n",
    "x = np.random.randn(100)  # generate 100 random numbers from the normal distrubtion\n",
    "x"
   ]
  },
  {
   "cell_type": "code",
   "execution_count": 49,
   "metadata": {},
   "outputs": [],
   "source": [
    "# what should be the mean of x? \n",
    "# to see the list of built-in functions for a numpy array x: \n",
    "# x. #press tab"
   ]
  },
  {
   "cell_type": "code",
   "execution_count": 50,
   "metadata": {
    "tags": []
   },
   "outputs": [
    {
     "name": "stdout",
     "output_type": "stream",
     "text": [
      "mean:  0.027109073490359778\n",
      "std:  1.128240470477961\n",
      "max: 2.392365265937726\n",
      "min: -2.7985891054607244\n",
      "sum: 2.7109073490359776\n"
     ]
    }
   ],
   "source": [
    "print(\"mean: \", x.mean())\n",
    "print(\"std: \", x.std())\n",
    "print(\"max:\", x.max())\n",
    "print(\"min:\", x.min())\n",
    "print(\"sum:\", x.sum())"
   ]
  },
  {
   "cell_type": "code",
   "execution_count": 51,
   "metadata": {},
   "outputs": [
    {
     "name": "stdout",
     "output_type": "stream",
     "text": [
      "Below are the mean and std for 100 observations\n",
      "mean:  0.027109073490359778\n",
      "std:  1.128240470477961 \n",
      "\n",
      "Below are the mean and std for 1000000 observations\n",
      "mean:  0.0006295013073554934\n",
      "std:  1.0002585536020998\n"
     ]
    }
   ],
   "source": [
    "# When you generate random numbers multiple times, the more observations you have, the closer your mean and std are to the true distribution (standard normal distribution)\n",
    "np.random.seed(123)\n",
    "x = np.random.randn(100) \n",
    "print(\"Below are the mean and std for 100 observations\")\n",
    "print(\"mean: \", x.mean())\n",
    "print(\"std: \", x.std(), \"\\n\")\n",
    "\n",
    "np.random.seed(123)\n",
    "x = np.random.randn(1000000) \n",
    "print(\"Below are the mean and std for 1000000 observations\")\n",
    "print(\"mean: \", x.mean())\n",
    "print(\"std: \", x.std())"
   ]
  },
  {
   "cell_type": "markdown",
   "metadata": {
    "tags": []
   },
   "source": [
    "# Pandas\n",
    "\n",
    "Topics to be covered:\n",
    "\n",
    "1. Series\n",
    "2. DataFrame"
   ]
  },
  {
   "cell_type": "markdown",
   "metadata": {
    "tags": []
   },
   "source": [
    "## 1. Series\n",
    "\n",
    "**Series are very similar to NumPy arrays.** The difference is that a Series can have axis labels, meaning it can be indexed by a label, instead of just a number location. We can convert a list or a numpy array to a Series."
   ]
  },
  {
   "cell_type": "code",
   "execution_count": 52,
   "metadata": {},
   "outputs": [],
   "source": [
    "#import both numpy and pandas library\n",
    "import numpy as np\n",
    "import pandas as pd"
   ]
  },
  {
   "cell_type": "code",
   "execution_count": 53,
   "metadata": {
    "tags": []
   },
   "outputs": [
    {
     "data": {
      "text/plain": [
       "['NY', 'CA', 'London', 'HK']"
      ]
     },
     "execution_count": 53,
     "metadata": {},
     "output_type": "execute_result"
    }
   ],
   "source": [
    "my_list = [\"NY\", \"CA\" , \"London\", \"HK\"]\n",
    "my_list"
   ]
  },
  {
   "cell_type": "code",
   "execution_count": 54,
   "metadata": {},
   "outputs": [
    {
     "data": {
      "text/plain": [
       "0        NY\n",
       "1        CA\n",
       "2    London\n",
       "3        HK\n",
       "dtype: object"
      ]
     },
     "execution_count": 54,
     "metadata": {},
     "output_type": "execute_result"
    }
   ],
   "source": [
    "# create a pandas series\n",
    "my_series = pd.Series(my_list)  #be careful about the capitalized letter: S in pd.Series\n",
    "my_series"
   ]
  },
  {
   "cell_type": "code",
   "execution_count": 55,
   "metadata": {},
   "outputs": [
    {
     "data": {
      "text/plain": [
       "'NY'"
      ]
     },
     "execution_count": 55,
     "metadata": {},
     "output_type": "execute_result"
    }
   ],
   "source": [
    "my_series[0]  "
   ]
  },
  {
   "cell_type": "code",
   "execution_count": 56,
   "metadata": {},
   "outputs": [
    {
     "data": {
      "text/plain": [
       "a        NY\n",
       "b        CA\n",
       "c    London\n",
       "d        HK\n",
       "dtype: object"
      ]
     },
     "execution_count": 56,
     "metadata": {},
     "output_type": "execute_result"
    }
   ],
   "source": [
    "labels = ['a','b','c','d']\n",
    "my_series_withlabels = pd.Series(my_list,index=labels)\n",
    "my_series_withlabels"
   ]
  },
  {
   "cell_type": "code",
   "execution_count": 57,
   "metadata": {},
   "outputs": [
    {
     "data": {
      "text/plain": [
       "'NY'"
      ]
     },
     "execution_count": 57,
     "metadata": {},
     "output_type": "execute_result"
    }
   ],
   "source": [
    "my_series_withlabels[0]  "
   ]
  },
  {
   "cell_type": "code",
   "execution_count": 58,
   "metadata": {},
   "outputs": [
    {
     "data": {
      "text/plain": [
       "'NY'"
      ]
     },
     "execution_count": 58,
     "metadata": {},
     "output_type": "execute_result"
    }
   ],
   "source": [
    "#unlike numpy arrays, we can extract objects by both index number and label. \n",
    "my_series_withlabels['a']  "
   ]
  },
  {
   "cell_type": "markdown",
   "metadata": {},
   "source": [
    "## 2. DataFrame\n",
    "\n",
    "Although Series are useful, DataFrame is what we normally use pandas for."
   ]
  },
  {
   "cell_type": "code",
   "execution_count": 59,
   "metadata": {
    "scrolled": true
   },
   "outputs": [
    {
     "data": {
      "text/html": [
       "<div>\n",
       "<style scoped>\n",
       "    .dataframe tbody tr th:only-of-type {\n",
       "        vertical-align: middle;\n",
       "    }\n",
       "\n",
       "    .dataframe tbody tr th {\n",
       "        vertical-align: top;\n",
       "    }\n",
       "\n",
       "    .dataframe thead th {\n",
       "        text-align: right;\n",
       "    }\n",
       "</style>\n",
       "<table border=\"1\" class=\"dataframe\">\n",
       "  <thead>\n",
       "    <tr style=\"text-align: right;\">\n",
       "      <th></th>\n",
       "      <th>0</th>\n",
       "      <th>1</th>\n",
       "      <th>2</th>\n",
       "      <th>3</th>\n",
       "    </tr>\n",
       "  </thead>\n",
       "  <tbody>\n",
       "    <tr>\n",
       "      <th>0</th>\n",
       "      <td>0.425735</td>\n",
       "      <td>0.698077</td>\n",
       "      <td>0.569767</td>\n",
       "      <td>0.986204</td>\n",
       "    </tr>\n",
       "    <tr>\n",
       "      <th>1</th>\n",
       "      <td>0.791340</td>\n",
       "      <td>0.492444</td>\n",
       "      <td>0.402151</td>\n",
       "      <td>0.333946</td>\n",
       "    </tr>\n",
       "    <tr>\n",
       "      <th>2</th>\n",
       "      <td>0.298938</td>\n",
       "      <td>0.140941</td>\n",
       "      <td>0.639572</td>\n",
       "      <td>0.957413</td>\n",
       "    </tr>\n",
       "    <tr>\n",
       "      <th>3</th>\n",
       "      <td>0.532439</td>\n",
       "      <td>0.112969</td>\n",
       "      <td>0.488943</td>\n",
       "      <td>0.248365</td>\n",
       "    </tr>\n",
       "    <tr>\n",
       "      <th>4</th>\n",
       "      <td>0.623985</td>\n",
       "      <td>0.903104</td>\n",
       "      <td>0.401284</td>\n",
       "      <td>0.808012</td>\n",
       "    </tr>\n",
       "    <tr>\n",
       "      <th>5</th>\n",
       "      <td>0.511983</td>\n",
       "      <td>0.289461</td>\n",
       "      <td>0.592615</td>\n",
       "      <td>0.275621</td>\n",
       "    </tr>\n",
       "    <tr>\n",
       "      <th>6</th>\n",
       "      <td>0.667187</td>\n",
       "      <td>0.658118</td>\n",
       "      <td>0.165401</td>\n",
       "      <td>0.583045</td>\n",
       "    </tr>\n",
       "    <tr>\n",
       "      <th>7</th>\n",
       "      <td>0.432402</td>\n",
       "      <td>0.848647</td>\n",
       "      <td>0.361279</td>\n",
       "      <td>0.879314</td>\n",
       "    </tr>\n",
       "    <tr>\n",
       "      <th>8</th>\n",
       "      <td>0.988927</td>\n",
       "      <td>0.012057</td>\n",
       "      <td>0.962098</td>\n",
       "      <td>0.052259</td>\n",
       "    </tr>\n",
       "    <tr>\n",
       "      <th>9</th>\n",
       "      <td>0.341810</td>\n",
       "      <td>0.357579</td>\n",
       "      <td>0.912219</td>\n",
       "      <td>0.086617</td>\n",
       "    </tr>\n",
       "  </tbody>\n",
       "</table>\n",
       "</div>"
      ],
      "text/plain": [
       "          0         1         2         3\n",
       "0  0.425735  0.698077  0.569767  0.986204\n",
       "1  0.791340  0.492444  0.402151  0.333946\n",
       "2  0.298938  0.140941  0.639572  0.957413\n",
       "3  0.532439  0.112969  0.488943  0.248365\n",
       "4  0.623985  0.903104  0.401284  0.808012\n",
       "5  0.511983  0.289461  0.592615  0.275621\n",
       "6  0.667187  0.658118  0.165401  0.583045\n",
       "7  0.432402  0.848647  0.361279  0.879314\n",
       "8  0.988927  0.012057  0.962098  0.052259\n",
       "9  0.341810  0.357579  0.912219  0.086617"
      ]
     },
     "execution_count": 59,
     "metadata": {},
     "output_type": "execute_result"
    }
   ],
   "source": [
    "# A dataframe is Two-dimensional, size-mutable, potentially heterogeneous tabular data. \n",
    "# (consisting of multiple columns/series)\n",
    "\n",
    "df = pd.DataFrame(np.random.rand(10,4))  #generate random numbers: 20 rows: 3 columns\n",
    "df"
   ]
  },
  {
   "cell_type": "code",
   "execution_count": 60,
   "metadata": {},
   "outputs": [
    {
     "data": {
      "text/html": [
       "<div>\n",
       "<style scoped>\n",
       "    .dataframe tbody tr th:only-of-type {\n",
       "        vertical-align: middle;\n",
       "    }\n",
       "\n",
       "    .dataframe tbody tr th {\n",
       "        vertical-align: top;\n",
       "    }\n",
       "\n",
       "    .dataframe thead th {\n",
       "        text-align: right;\n",
       "    }\n",
       "</style>\n",
       "<table border=\"1\" class=\"dataframe\">\n",
       "  <thead>\n",
       "    <tr style=\"text-align: right;\">\n",
       "      <th></th>\n",
       "      <th>Tencent</th>\n",
       "      <th>Alibaba</th>\n",
       "      <th>Baidu</th>\n",
       "      <th>JD</th>\n",
       "    </tr>\n",
       "  </thead>\n",
       "  <tbody>\n",
       "    <tr>\n",
       "      <th>0</th>\n",
       "      <td>0.708777</td>\n",
       "      <td>0.889998</td>\n",
       "      <td>0.953656</td>\n",
       "      <td>0.457647</td>\n",
       "    </tr>\n",
       "    <tr>\n",
       "      <th>1</th>\n",
       "      <td>0.614000</td>\n",
       "      <td>0.060706</td>\n",
       "      <td>0.377732</td>\n",
       "      <td>0.903219</td>\n",
       "    </tr>\n",
       "    <tr>\n",
       "      <th>2</th>\n",
       "      <td>0.864960</td>\n",
       "      <td>0.769361</td>\n",
       "      <td>0.608371</td>\n",
       "      <td>0.342222</td>\n",
       "    </tr>\n",
       "    <tr>\n",
       "      <th>3</th>\n",
       "      <td>0.108061</td>\n",
       "      <td>0.585095</td>\n",
       "      <td>0.194292</td>\n",
       "      <td>0.344749</td>\n",
       "    </tr>\n",
       "    <tr>\n",
       "      <th>4</th>\n",
       "      <td>0.803792</td>\n",
       "      <td>0.003262</td>\n",
       "      <td>0.859627</td>\n",
       "      <td>0.816037</td>\n",
       "    </tr>\n",
       "    <tr>\n",
       "      <th>5</th>\n",
       "      <td>0.673859</td>\n",
       "      <td>0.324808</td>\n",
       "      <td>0.246341</td>\n",
       "      <td>0.299904</td>\n",
       "    </tr>\n",
       "    <tr>\n",
       "      <th>6</th>\n",
       "      <td>0.561033</td>\n",
       "      <td>0.171065</td>\n",
       "      <td>0.205809</td>\n",
       "      <td>0.585177</td>\n",
       "    </tr>\n",
       "    <tr>\n",
       "      <th>7</th>\n",
       "      <td>0.363142</td>\n",
       "      <td>0.979281</td>\n",
       "      <td>0.401054</td>\n",
       "      <td>0.755531</td>\n",
       "    </tr>\n",
       "    <tr>\n",
       "      <th>8</th>\n",
       "      <td>0.137862</td>\n",
       "      <td>0.627280</td>\n",
       "      <td>0.235453</td>\n",
       "      <td>0.435365</td>\n",
       "    </tr>\n",
       "    <tr>\n",
       "      <th>9</th>\n",
       "      <td>0.341459</td>\n",
       "      <td>0.061194</td>\n",
       "      <td>0.636531</td>\n",
       "      <td>0.225624</td>\n",
       "    </tr>\n",
       "  </tbody>\n",
       "</table>\n",
       "</div>"
      ],
      "text/plain": [
       "    Tencent   Alibaba     Baidu        JD\n",
       "0  0.708777  0.889998  0.953656  0.457647\n",
       "1  0.614000  0.060706  0.377732  0.903219\n",
       "2  0.864960  0.769361  0.608371  0.342222\n",
       "3  0.108061  0.585095  0.194292  0.344749\n",
       "4  0.803792  0.003262  0.859627  0.816037\n",
       "5  0.673859  0.324808  0.246341  0.299904\n",
       "6  0.561033  0.171065  0.205809  0.585177\n",
       "7  0.363142  0.979281  0.401054  0.755531\n",
       "8  0.137862  0.627280  0.235453  0.435365\n",
       "9  0.341459  0.061194  0.636531  0.225624"
      ]
     },
     "execution_count": 60,
     "metadata": {},
     "output_type": "execute_result"
    }
   ],
   "source": [
    "# We can name each column\n",
    "df = pd.DataFrame(np.random.rand(10,4), columns= ['Tencent', 'Alibaba', 'Baidu','JD'])   #give each column a name of one listed Chinese company\n",
    "df\n"
   ]
  },
  {
   "cell_type": "code",
   "execution_count": 61,
   "metadata": {},
   "outputs": [
    {
     "data": {
      "text/plain": [
       "DatetimeIndex(['2018-01-01', '2018-01-02', '2018-01-03', '2018-01-04',\n",
       "               '2018-01-05', '2018-01-06', '2018-01-07', '2018-01-08',\n",
       "               '2018-01-09', '2018-01-10'],\n",
       "              dtype='datetime64[ns]', freq='D')"
      ]
     },
     "execution_count": 61,
     "metadata": {},
     "output_type": "execute_result"
    }
   ],
   "source": [
    "# we can pass a date index\n",
    "dates = pd.date_range('20180101', periods=10)\n",
    "dates"
   ]
  },
  {
   "cell_type": "code",
   "execution_count": 62,
   "metadata": {},
   "outputs": [],
   "source": [
    "# dates = pd.date_range(start='20180101', periods=10,freq=\"W\")\n",
    "# dates"
   ]
  },
  {
   "cell_type": "code",
   "execution_count": 63,
   "metadata": {},
   "outputs": [
    {
     "data": {
      "text/html": [
       "<div>\n",
       "<style scoped>\n",
       "    .dataframe tbody tr th:only-of-type {\n",
       "        vertical-align: middle;\n",
       "    }\n",
       "\n",
       "    .dataframe tbody tr th {\n",
       "        vertical-align: top;\n",
       "    }\n",
       "\n",
       "    .dataframe thead th {\n",
       "        text-align: right;\n",
       "    }\n",
       "</style>\n",
       "<table border=\"1\" class=\"dataframe\">\n",
       "  <thead>\n",
       "    <tr style=\"text-align: right;\">\n",
       "      <th></th>\n",
       "      <th>Tencent</th>\n",
       "      <th>Alibaba</th>\n",
       "      <th>Baidu</th>\n",
       "      <th>JD</th>\n",
       "    </tr>\n",
       "  </thead>\n",
       "  <tbody>\n",
       "    <tr>\n",
       "      <th>2018-01-01</th>\n",
       "      <td>0.338399</td>\n",
       "      <td>0.155333</td>\n",
       "      <td>0.564068</td>\n",
       "      <td>0.470597</td>\n",
       "    </tr>\n",
       "    <tr>\n",
       "      <th>2018-01-02</th>\n",
       "      <td>0.265059</td>\n",
       "      <td>0.354282</td>\n",
       "      <td>0.909707</td>\n",
       "      <td>0.534934</td>\n",
       "    </tr>\n",
       "    <tr>\n",
       "      <th>2018-01-03</th>\n",
       "      <td>0.131900</td>\n",
       "      <td>0.157600</td>\n",
       "      <td>0.283244</td>\n",
       "      <td>0.723055</td>\n",
       "    </tr>\n",
       "    <tr>\n",
       "      <th>2018-01-04</th>\n",
       "      <td>0.988508</td>\n",
       "      <td>0.736285</td>\n",
       "      <td>0.368495</td>\n",
       "      <td>0.805311</td>\n",
       "    </tr>\n",
       "    <tr>\n",
       "      <th>2018-01-05</th>\n",
       "      <td>0.302819</td>\n",
       "      <td>0.770362</td>\n",
       "      <td>0.320613</td>\n",
       "      <td>0.827408</td>\n",
       "    </tr>\n",
       "    <tr>\n",
       "      <th>2018-01-06</th>\n",
       "      <td>0.457602</td>\n",
       "      <td>0.132751</td>\n",
       "      <td>0.666649</td>\n",
       "      <td>0.546420</td>\n",
       "    </tr>\n",
       "    <tr>\n",
       "      <th>2018-01-07</th>\n",
       "      <td>0.153805</td>\n",
       "      <td>0.380403</td>\n",
       "      <td>0.402076</td>\n",
       "      <td>0.203379</td>\n",
       "    </tr>\n",
       "    <tr>\n",
       "      <th>2018-01-08</th>\n",
       "      <td>0.080599</td>\n",
       "      <td>0.515810</td>\n",
       "      <td>0.868683</td>\n",
       "      <td>0.869231</td>\n",
       "    </tr>\n",
       "    <tr>\n",
       "      <th>2018-01-09</th>\n",
       "      <td>0.097541</td>\n",
       "      <td>0.013034</td>\n",
       "      <td>0.995757</td>\n",
       "      <td>0.469287</td>\n",
       "    </tr>\n",
       "    <tr>\n",
       "      <th>2018-01-10</th>\n",
       "      <td>0.219531</td>\n",
       "      <td>0.034979</td>\n",
       "      <td>0.356078</td>\n",
       "      <td>0.481622</td>\n",
       "    </tr>\n",
       "  </tbody>\n",
       "</table>\n",
       "</div>"
      ],
      "text/plain": [
       "             Tencent   Alibaba     Baidu        JD\n",
       "2018-01-01  0.338399  0.155333  0.564068  0.470597\n",
       "2018-01-02  0.265059  0.354282  0.909707  0.534934\n",
       "2018-01-03  0.131900  0.157600  0.283244  0.723055\n",
       "2018-01-04  0.988508  0.736285  0.368495  0.805311\n",
       "2018-01-05  0.302819  0.770362  0.320613  0.827408\n",
       "2018-01-06  0.457602  0.132751  0.666649  0.546420\n",
       "2018-01-07  0.153805  0.380403  0.402076  0.203379\n",
       "2018-01-08  0.080599  0.515810  0.868683  0.869231\n",
       "2018-01-09  0.097541  0.013034  0.995757  0.469287\n",
       "2018-01-10  0.219531  0.034979  0.356078  0.481622"
      ]
     },
     "execution_count": 63,
     "metadata": {},
     "output_type": "execute_result"
    }
   ],
   "source": [
    "df = pd.DataFrame(np.random.rand(10,4), columns= ['Tencent', 'Alibaba', 'Baidu','JD'], index=dates)\n",
    "df"
   ]
  },
  {
   "cell_type": "code",
   "execution_count": 64,
   "metadata": {},
   "outputs": [
    {
     "data": {
      "text/html": [
       "<div>\n",
       "<style scoped>\n",
       "    .dataframe tbody tr th:only-of-type {\n",
       "        vertical-align: middle;\n",
       "    }\n",
       "\n",
       "    .dataframe tbody tr th {\n",
       "        vertical-align: top;\n",
       "    }\n",
       "\n",
       "    .dataframe thead th {\n",
       "        text-align: right;\n",
       "    }\n",
       "</style>\n",
       "<table border=\"1\" class=\"dataframe\">\n",
       "  <thead>\n",
       "    <tr style=\"text-align: right;\">\n",
       "      <th></th>\n",
       "      <th>Tencent</th>\n",
       "      <th>Alibaba</th>\n",
       "      <th>Baidu</th>\n",
       "      <th>JD</th>\n",
       "    </tr>\n",
       "  </thead>\n",
       "  <tbody>\n",
       "    <tr>\n",
       "      <th>2018-01-01</th>\n",
       "      <td>0.543405</td>\n",
       "      <td>0.278369</td>\n",
       "      <td>0.424518</td>\n",
       "      <td>0.844776</td>\n",
       "    </tr>\n",
       "    <tr>\n",
       "      <th>2018-01-02</th>\n",
       "      <td>0.004719</td>\n",
       "      <td>0.121569</td>\n",
       "      <td>0.670749</td>\n",
       "      <td>0.825853</td>\n",
       "    </tr>\n",
       "    <tr>\n",
       "      <th>2018-01-03</th>\n",
       "      <td>0.136707</td>\n",
       "      <td>0.575093</td>\n",
       "      <td>0.891322</td>\n",
       "      <td>0.209202</td>\n",
       "    </tr>\n",
       "    <tr>\n",
       "      <th>2018-01-04</th>\n",
       "      <td>0.185328</td>\n",
       "      <td>0.108377</td>\n",
       "      <td>0.219697</td>\n",
       "      <td>0.978624</td>\n",
       "    </tr>\n",
       "    <tr>\n",
       "      <th>2018-01-05</th>\n",
       "      <td>0.811683</td>\n",
       "      <td>0.171941</td>\n",
       "      <td>0.816225</td>\n",
       "      <td>0.274074</td>\n",
       "    </tr>\n",
       "    <tr>\n",
       "      <th>2018-01-06</th>\n",
       "      <td>0.431704</td>\n",
       "      <td>0.940030</td>\n",
       "      <td>0.817649</td>\n",
       "      <td>0.336112</td>\n",
       "    </tr>\n",
       "    <tr>\n",
       "      <th>2018-01-07</th>\n",
       "      <td>0.175410</td>\n",
       "      <td>0.372832</td>\n",
       "      <td>0.005689</td>\n",
       "      <td>0.252426</td>\n",
       "    </tr>\n",
       "    <tr>\n",
       "      <th>2018-01-08</th>\n",
       "      <td>0.795663</td>\n",
       "      <td>0.015255</td>\n",
       "      <td>0.598843</td>\n",
       "      <td>0.603805</td>\n",
       "    </tr>\n",
       "    <tr>\n",
       "      <th>2018-01-09</th>\n",
       "      <td>0.105148</td>\n",
       "      <td>0.381943</td>\n",
       "      <td>0.036476</td>\n",
       "      <td>0.890412</td>\n",
       "    </tr>\n",
       "    <tr>\n",
       "      <th>2018-01-10</th>\n",
       "      <td>0.980921</td>\n",
       "      <td>0.059942</td>\n",
       "      <td>0.890546</td>\n",
       "      <td>0.576901</td>\n",
       "    </tr>\n",
       "  </tbody>\n",
       "</table>\n",
       "</div>"
      ],
      "text/plain": [
       "             Tencent   Alibaba     Baidu        JD\n",
       "2018-01-01  0.543405  0.278369  0.424518  0.844776\n",
       "2018-01-02  0.004719  0.121569  0.670749  0.825853\n",
       "2018-01-03  0.136707  0.575093  0.891322  0.209202\n",
       "2018-01-04  0.185328  0.108377  0.219697  0.978624\n",
       "2018-01-05  0.811683  0.171941  0.816225  0.274074\n",
       "2018-01-06  0.431704  0.940030  0.817649  0.336112\n",
       "2018-01-07  0.175410  0.372832  0.005689  0.252426\n",
       "2018-01-08  0.795663  0.015255  0.598843  0.603805\n",
       "2018-01-09  0.105148  0.381943  0.036476  0.890412\n",
       "2018-01-10  0.980921  0.059942  0.890546  0.576901"
      ]
     },
     "execution_count": 64,
     "metadata": {},
     "output_type": "execute_result"
    }
   ],
   "source": [
    "np.random.seed(100) # add this if you want to observe the same results as mine \n",
    "df = pd.DataFrame(np.random.rand(10,4), columns= ['Tencent', 'Alibaba', 'Baidu','JD'], index=dates)\n",
    "df"
   ]
  },
  {
   "cell_type": "markdown",
   "metadata": {},
   "source": [
    "## Access data"
   ]
  },
  {
   "cell_type": "code",
   "execution_count": 65,
   "metadata": {
    "scrolled": true
   },
   "outputs": [
    {
     "data": {
      "text/html": [
       "<div>\n",
       "<style scoped>\n",
       "    .dataframe tbody tr th:only-of-type {\n",
       "        vertical-align: middle;\n",
       "    }\n",
       "\n",
       "    .dataframe tbody tr th {\n",
       "        vertical-align: top;\n",
       "    }\n",
       "\n",
       "    .dataframe thead th {\n",
       "        text-align: right;\n",
       "    }\n",
       "</style>\n",
       "<table border=\"1\" class=\"dataframe\">\n",
       "  <thead>\n",
       "    <tr style=\"text-align: right;\">\n",
       "      <th></th>\n",
       "      <th>Tencent</th>\n",
       "      <th>Alibaba</th>\n",
       "      <th>Baidu</th>\n",
       "      <th>JD</th>\n",
       "    </tr>\n",
       "  </thead>\n",
       "  <tbody>\n",
       "    <tr>\n",
       "      <th>2018-01-01</th>\n",
       "      <td>0.543405</td>\n",
       "      <td>0.278369</td>\n",
       "      <td>0.424518</td>\n",
       "      <td>0.844776</td>\n",
       "    </tr>\n",
       "    <tr>\n",
       "      <th>2018-01-02</th>\n",
       "      <td>0.004719</td>\n",
       "      <td>0.121569</td>\n",
       "      <td>0.670749</td>\n",
       "      <td>0.825853</td>\n",
       "    </tr>\n",
       "    <tr>\n",
       "      <th>2018-01-03</th>\n",
       "      <td>0.136707</td>\n",
       "      <td>0.575093</td>\n",
       "      <td>0.891322</td>\n",
       "      <td>0.209202</td>\n",
       "    </tr>\n",
       "    <tr>\n",
       "      <th>2018-01-04</th>\n",
       "      <td>0.185328</td>\n",
       "      <td>0.108377</td>\n",
       "      <td>0.219697</td>\n",
       "      <td>0.978624</td>\n",
       "    </tr>\n",
       "    <tr>\n",
       "      <th>2018-01-05</th>\n",
       "      <td>0.811683</td>\n",
       "      <td>0.171941</td>\n",
       "      <td>0.816225</td>\n",
       "      <td>0.274074</td>\n",
       "    </tr>\n",
       "  </tbody>\n",
       "</table>\n",
       "</div>"
      ],
      "text/plain": [
       "             Tencent   Alibaba     Baidu        JD\n",
       "2018-01-01  0.543405  0.278369  0.424518  0.844776\n",
       "2018-01-02  0.004719  0.121569  0.670749  0.825853\n",
       "2018-01-03  0.136707  0.575093  0.891322  0.209202\n",
       "2018-01-04  0.185328  0.108377  0.219697  0.978624\n",
       "2018-01-05  0.811683  0.171941  0.816225  0.274074"
      ]
     },
     "execution_count": 65,
     "metadata": {},
     "output_type": "execute_result"
    }
   ],
   "source": [
    "# the head and tail allows you to print the begining of the end of df\n",
    "df.head()  # show you the first 5 rows\n",
    "# df.head(2)"
   ]
  },
  {
   "cell_type": "code",
   "execution_count": 66,
   "metadata": {},
   "outputs": [
    {
     "data": {
      "text/html": [
       "<div>\n",
       "<style scoped>\n",
       "    .dataframe tbody tr th:only-of-type {\n",
       "        vertical-align: middle;\n",
       "    }\n",
       "\n",
       "    .dataframe tbody tr th {\n",
       "        vertical-align: top;\n",
       "    }\n",
       "\n",
       "    .dataframe thead th {\n",
       "        text-align: right;\n",
       "    }\n",
       "</style>\n",
       "<table border=\"1\" class=\"dataframe\">\n",
       "  <thead>\n",
       "    <tr style=\"text-align: right;\">\n",
       "      <th></th>\n",
       "      <th>Tencent</th>\n",
       "      <th>Alibaba</th>\n",
       "      <th>Baidu</th>\n",
       "      <th>JD</th>\n",
       "    </tr>\n",
       "  </thead>\n",
       "  <tbody>\n",
       "    <tr>\n",
       "      <th>2018-01-06</th>\n",
       "      <td>0.431704</td>\n",
       "      <td>0.940030</td>\n",
       "      <td>0.817649</td>\n",
       "      <td>0.336112</td>\n",
       "    </tr>\n",
       "    <tr>\n",
       "      <th>2018-01-07</th>\n",
       "      <td>0.175410</td>\n",
       "      <td>0.372832</td>\n",
       "      <td>0.005689</td>\n",
       "      <td>0.252426</td>\n",
       "    </tr>\n",
       "    <tr>\n",
       "      <th>2018-01-08</th>\n",
       "      <td>0.795663</td>\n",
       "      <td>0.015255</td>\n",
       "      <td>0.598843</td>\n",
       "      <td>0.603805</td>\n",
       "    </tr>\n",
       "    <tr>\n",
       "      <th>2018-01-09</th>\n",
       "      <td>0.105148</td>\n",
       "      <td>0.381943</td>\n",
       "      <td>0.036476</td>\n",
       "      <td>0.890412</td>\n",
       "    </tr>\n",
       "    <tr>\n",
       "      <th>2018-01-10</th>\n",
       "      <td>0.980921</td>\n",
       "      <td>0.059942</td>\n",
       "      <td>0.890546</td>\n",
       "      <td>0.576901</td>\n",
       "    </tr>\n",
       "  </tbody>\n",
       "</table>\n",
       "</div>"
      ],
      "text/plain": [
       "             Tencent   Alibaba     Baidu        JD\n",
       "2018-01-06  0.431704  0.940030  0.817649  0.336112\n",
       "2018-01-07  0.175410  0.372832  0.005689  0.252426\n",
       "2018-01-08  0.795663  0.015255  0.598843  0.603805\n",
       "2018-01-09  0.105148  0.381943  0.036476  0.890412\n",
       "2018-01-10  0.980921  0.059942  0.890546  0.576901"
      ]
     },
     "execution_count": 66,
     "metadata": {},
     "output_type": "execute_result"
    }
   ],
   "source": [
    "df.tail()"
   ]
  },
  {
   "cell_type": "code",
   "execution_count": 67,
   "metadata": {},
   "outputs": [
    {
     "data": {
      "text/plain": [
       "Index(['Tencent', 'Alibaba', 'Baidu', 'JD'], dtype='object')"
      ]
     },
     "execution_count": 67,
     "metadata": {},
     "output_type": "execute_result"
    }
   ],
   "source": [
    "# you can print the columns' names\n",
    "df.columns"
   ]
  },
  {
   "cell_type": "code",
   "execution_count": 68,
   "metadata": {},
   "outputs": [
    {
     "data": {
      "text/plain": [
       "DatetimeIndex(['2018-01-01', '2018-01-02', '2018-01-03', '2018-01-04',\n",
       "               '2018-01-05', '2018-01-06', '2018-01-07', '2018-01-08',\n",
       "               '2018-01-09', '2018-01-10'],\n",
       "              dtype='datetime64[ns]', freq='D')"
      ]
     },
     "execution_count": 68,
     "metadata": {},
     "output_type": "execute_result"
    }
   ],
   "source": [
    "# you can access the index\n",
    "df.index"
   ]
  },
  {
   "cell_type": "code",
   "execution_count": 69,
   "metadata": {
    "scrolled": true
   },
   "outputs": [
    {
     "data": {
      "text/html": [
       "<div>\n",
       "<style scoped>\n",
       "    .dataframe tbody tr th:only-of-type {\n",
       "        vertical-align: middle;\n",
       "    }\n",
       "\n",
       "    .dataframe tbody tr th {\n",
       "        vertical-align: top;\n",
       "    }\n",
       "\n",
       "    .dataframe thead th {\n",
       "        text-align: right;\n",
       "    }\n",
       "</style>\n",
       "<table border=\"1\" class=\"dataframe\">\n",
       "  <thead>\n",
       "    <tr style=\"text-align: right;\">\n",
       "      <th></th>\n",
       "      <th>Tencent</th>\n",
       "      <th>Alibaba</th>\n",
       "      <th>Baidu</th>\n",
       "      <th>JD</th>\n",
       "    </tr>\n",
       "  </thead>\n",
       "  <tbody>\n",
       "    <tr>\n",
       "      <th>count</th>\n",
       "      <td>10.000000</td>\n",
       "      <td>10.000000</td>\n",
       "      <td>10.000000</td>\n",
       "      <td>10.000000</td>\n",
       "    </tr>\n",
       "    <tr>\n",
       "      <th>mean</th>\n",
       "      <td>0.417069</td>\n",
       "      <td>0.302535</td>\n",
       "      <td>0.537171</td>\n",
       "      <td>0.579218</td>\n",
       "    </tr>\n",
       "    <tr>\n",
       "      <th>std</th>\n",
       "      <td>0.348200</td>\n",
       "      <td>0.283118</td>\n",
       "      <td>0.345629</td>\n",
       "      <td>0.295192</td>\n",
       "    </tr>\n",
       "    <tr>\n",
       "      <th>min</th>\n",
       "      <td>0.004719</td>\n",
       "      <td>0.015255</td>\n",
       "      <td>0.005689</td>\n",
       "      <td>0.209202</td>\n",
       "    </tr>\n",
       "    <tr>\n",
       "      <th>25%</th>\n",
       "      <td>0.146383</td>\n",
       "      <td>0.111675</td>\n",
       "      <td>0.270903</td>\n",
       "      <td>0.289583</td>\n",
       "    </tr>\n",
       "    <tr>\n",
       "      <th>50%</th>\n",
       "      <td>0.308516</td>\n",
       "      <td>0.225155</td>\n",
       "      <td>0.634796</td>\n",
       "      <td>0.590353</td>\n",
       "    </tr>\n",
       "    <tr>\n",
       "      <th>75%</th>\n",
       "      <td>0.732598</td>\n",
       "      <td>0.379666</td>\n",
       "      <td>0.817293</td>\n",
       "      <td>0.840045</td>\n",
       "    </tr>\n",
       "    <tr>\n",
       "      <th>max</th>\n",
       "      <td>0.980921</td>\n",
       "      <td>0.940030</td>\n",
       "      <td>0.891322</td>\n",
       "      <td>0.978624</td>\n",
       "    </tr>\n",
       "  </tbody>\n",
       "</table>\n",
       "</div>"
      ],
      "text/plain": [
       "         Tencent    Alibaba      Baidu         JD\n",
       "count  10.000000  10.000000  10.000000  10.000000\n",
       "mean    0.417069   0.302535   0.537171   0.579218\n",
       "std     0.348200   0.283118   0.345629   0.295192\n",
       "min     0.004719   0.015255   0.005689   0.209202\n",
       "25%     0.146383   0.111675   0.270903   0.289583\n",
       "50%     0.308516   0.225155   0.634796   0.590353\n",
       "75%     0.732598   0.379666   0.817293   0.840045\n",
       "max     0.980921   0.940030   0.891322   0.978624"
      ]
     },
     "execution_count": 69,
     "metadata": {},
     "output_type": "execute_result"
    }
   ],
   "source": [
    "# you can have a description of the data (summary statistics of each column)\n",
    "df.describe()"
   ]
  },
  {
   "cell_type": "code",
   "execution_count": 70,
   "metadata": {},
   "outputs": [
    {
     "data": {
      "text/html": [
       "<div>\n",
       "<style scoped>\n",
       "    .dataframe tbody tr th:only-of-type {\n",
       "        vertical-align: middle;\n",
       "    }\n",
       "\n",
       "    .dataframe tbody tr th {\n",
       "        vertical-align: top;\n",
       "    }\n",
       "\n",
       "    .dataframe thead th {\n",
       "        text-align: right;\n",
       "    }\n",
       "</style>\n",
       "<table border=\"1\" class=\"dataframe\">\n",
       "  <thead>\n",
       "    <tr style=\"text-align: right;\">\n",
       "      <th></th>\n",
       "      <th>2018-01-01</th>\n",
       "      <th>2018-01-02</th>\n",
       "      <th>2018-01-03</th>\n",
       "      <th>2018-01-04</th>\n",
       "      <th>2018-01-05</th>\n",
       "      <th>2018-01-06</th>\n",
       "      <th>2018-01-07</th>\n",
       "      <th>2018-01-08</th>\n",
       "      <th>2018-01-09</th>\n",
       "      <th>2018-01-10</th>\n",
       "    </tr>\n",
       "  </thead>\n",
       "  <tbody>\n",
       "    <tr>\n",
       "      <th>count</th>\n",
       "      <td>4.000000</td>\n",
       "      <td>4.000000</td>\n",
       "      <td>4.000000</td>\n",
       "      <td>4.000000</td>\n",
       "      <td>4.000000</td>\n",
       "      <td>4.000000</td>\n",
       "      <td>4.000000</td>\n",
       "      <td>4.000000</td>\n",
       "      <td>4.000000</td>\n",
       "      <td>4.000000</td>\n",
       "    </tr>\n",
       "    <tr>\n",
       "      <th>mean</th>\n",
       "      <td>0.522767</td>\n",
       "      <td>0.405722</td>\n",
       "      <td>0.453081</td>\n",
       "      <td>0.373007</td>\n",
       "      <td>0.518481</td>\n",
       "      <td>0.631374</td>\n",
       "      <td>0.201589</td>\n",
       "      <td>0.503391</td>\n",
       "      <td>0.353495</td>\n",
       "      <td>0.627078</td>\n",
       "    </tr>\n",
       "    <tr>\n",
       "      <th>std</th>\n",
       "      <td>0.240485</td>\n",
       "      <td>0.403442</td>\n",
       "      <td>0.349529</td>\n",
       "      <td>0.406418</td>\n",
       "      <td>0.343726</td>\n",
       "      <td>0.292697</td>\n",
       "      <td>0.153808</td>\n",
       "      <td>0.338080</td>\n",
       "      <td>0.387843</td>\n",
       "      <td>0.415845</td>\n",
       "    </tr>\n",
       "    <tr>\n",
       "      <th>min</th>\n",
       "      <td>0.278369</td>\n",
       "      <td>0.004719</td>\n",
       "      <td>0.136707</td>\n",
       "      <td>0.108377</td>\n",
       "      <td>0.171941</td>\n",
       "      <td>0.336112</td>\n",
       "      <td>0.005689</td>\n",
       "      <td>0.015255</td>\n",
       "      <td>0.036476</td>\n",
       "      <td>0.059942</td>\n",
       "    </tr>\n",
       "    <tr>\n",
       "      <th>25%</th>\n",
       "      <td>0.387981</td>\n",
       "      <td>0.092357</td>\n",
       "      <td>0.191078</td>\n",
       "      <td>0.166090</td>\n",
       "      <td>0.248541</td>\n",
       "      <td>0.407806</td>\n",
       "      <td>0.132980</td>\n",
       "      <td>0.452946</td>\n",
       "      <td>0.087980</td>\n",
       "      <td>0.447662</td>\n",
       "    </tr>\n",
       "    <tr>\n",
       "      <th>50%</th>\n",
       "      <td>0.483961</td>\n",
       "      <td>0.396159</td>\n",
       "      <td>0.392148</td>\n",
       "      <td>0.202513</td>\n",
       "      <td>0.542878</td>\n",
       "      <td>0.624677</td>\n",
       "      <td>0.213918</td>\n",
       "      <td>0.601324</td>\n",
       "      <td>0.243546</td>\n",
       "      <td>0.733724</td>\n",
       "    </tr>\n",
       "    <tr>\n",
       "      <th>75%</th>\n",
       "      <td>0.618748</td>\n",
       "      <td>0.709525</td>\n",
       "      <td>0.654150</td>\n",
       "      <td>0.409429</td>\n",
       "      <td>0.812819</td>\n",
       "      <td>0.848244</td>\n",
       "      <td>0.282528</td>\n",
       "      <td>0.651769</td>\n",
       "      <td>0.509060</td>\n",
       "      <td>0.913140</td>\n",
       "    </tr>\n",
       "    <tr>\n",
       "      <th>max</th>\n",
       "      <td>0.844776</td>\n",
       "      <td>0.825853</td>\n",
       "      <td>0.891322</td>\n",
       "      <td>0.978624</td>\n",
       "      <td>0.816225</td>\n",
       "      <td>0.940030</td>\n",
       "      <td>0.372832</td>\n",
       "      <td>0.795663</td>\n",
       "      <td>0.890412</td>\n",
       "      <td>0.980921</td>\n",
       "    </tr>\n",
       "  </tbody>\n",
       "</table>\n",
       "</div>"
      ],
      "text/plain": [
       "       2018-01-01  2018-01-02  2018-01-03  2018-01-04  2018-01-05  2018-01-06  \\\n",
       "count    4.000000    4.000000    4.000000    4.000000    4.000000    4.000000   \n",
       "mean     0.522767    0.405722    0.453081    0.373007    0.518481    0.631374   \n",
       "std      0.240485    0.403442    0.349529    0.406418    0.343726    0.292697   \n",
       "min      0.278369    0.004719    0.136707    0.108377    0.171941    0.336112   \n",
       "25%      0.387981    0.092357    0.191078    0.166090    0.248541    0.407806   \n",
       "50%      0.483961    0.396159    0.392148    0.202513    0.542878    0.624677   \n",
       "75%      0.618748    0.709525    0.654150    0.409429    0.812819    0.848244   \n",
       "max      0.844776    0.825853    0.891322    0.978624    0.816225    0.940030   \n",
       "\n",
       "       2018-01-07  2018-01-08  2018-01-09  2018-01-10  \n",
       "count    4.000000    4.000000    4.000000    4.000000  \n",
       "mean     0.201589    0.503391    0.353495    0.627078  \n",
       "std      0.153808    0.338080    0.387843    0.415845  \n",
       "min      0.005689    0.015255    0.036476    0.059942  \n",
       "25%      0.132980    0.452946    0.087980    0.447662  \n",
       "50%      0.213918    0.601324    0.243546    0.733724  \n",
       "75%      0.282528    0.651769    0.509060    0.913140  \n",
       "max      0.372832    0.795663    0.890412    0.980921  "
      ]
     },
     "execution_count": 70,
     "metadata": {},
     "output_type": "execute_result"
    }
   ],
   "source": [
    "# df.T\n",
    "df.T.describe()"
   ]
  },
  {
   "cell_type": "markdown",
   "metadata": {},
   "source": [
    "### Indexing and extraction"
   ]
  },
  {
   "cell_type": "code",
   "execution_count": 71,
   "metadata": {},
   "outputs": [
    {
     "data": {
      "text/html": [
       "<div>\n",
       "<style scoped>\n",
       "    .dataframe tbody tr th:only-of-type {\n",
       "        vertical-align: middle;\n",
       "    }\n",
       "\n",
       "    .dataframe tbody tr th {\n",
       "        vertical-align: top;\n",
       "    }\n",
       "\n",
       "    .dataframe thead th {\n",
       "        text-align: right;\n",
       "    }\n",
       "</style>\n",
       "<table border=\"1\" class=\"dataframe\">\n",
       "  <thead>\n",
       "    <tr style=\"text-align: right;\">\n",
       "      <th></th>\n",
       "      <th>Tencent</th>\n",
       "      <th>Alibaba</th>\n",
       "      <th>Baidu</th>\n",
       "      <th>JD</th>\n",
       "    </tr>\n",
       "  </thead>\n",
       "  <tbody>\n",
       "    <tr>\n",
       "      <th>2018-01-01</th>\n",
       "      <td>0.543405</td>\n",
       "      <td>0.278369</td>\n",
       "      <td>0.424518</td>\n",
       "      <td>0.844776</td>\n",
       "    </tr>\n",
       "    <tr>\n",
       "      <th>2018-01-02</th>\n",
       "      <td>0.004719</td>\n",
       "      <td>0.121569</td>\n",
       "      <td>0.670749</td>\n",
       "      <td>0.825853</td>\n",
       "    </tr>\n",
       "    <tr>\n",
       "      <th>2018-01-03</th>\n",
       "      <td>0.136707</td>\n",
       "      <td>0.575093</td>\n",
       "      <td>0.891322</td>\n",
       "      <td>0.209202</td>\n",
       "    </tr>\n",
       "    <tr>\n",
       "      <th>2018-01-04</th>\n",
       "      <td>0.185328</td>\n",
       "      <td>0.108377</td>\n",
       "      <td>0.219697</td>\n",
       "      <td>0.978624</td>\n",
       "    </tr>\n",
       "    <tr>\n",
       "      <th>2018-01-05</th>\n",
       "      <td>0.811683</td>\n",
       "      <td>0.171941</td>\n",
       "      <td>0.816225</td>\n",
       "      <td>0.274074</td>\n",
       "    </tr>\n",
       "    <tr>\n",
       "      <th>2018-01-06</th>\n",
       "      <td>0.431704</td>\n",
       "      <td>0.940030</td>\n",
       "      <td>0.817649</td>\n",
       "      <td>0.336112</td>\n",
       "    </tr>\n",
       "    <tr>\n",
       "      <th>2018-01-07</th>\n",
       "      <td>0.175410</td>\n",
       "      <td>0.372832</td>\n",
       "      <td>0.005689</td>\n",
       "      <td>0.252426</td>\n",
       "    </tr>\n",
       "    <tr>\n",
       "      <th>2018-01-08</th>\n",
       "      <td>0.795663</td>\n",
       "      <td>0.015255</td>\n",
       "      <td>0.598843</td>\n",
       "      <td>0.603805</td>\n",
       "    </tr>\n",
       "    <tr>\n",
       "      <th>2018-01-09</th>\n",
       "      <td>0.105148</td>\n",
       "      <td>0.381943</td>\n",
       "      <td>0.036476</td>\n",
       "      <td>0.890412</td>\n",
       "    </tr>\n",
       "    <tr>\n",
       "      <th>2018-01-10</th>\n",
       "      <td>0.980921</td>\n",
       "      <td>0.059942</td>\n",
       "      <td>0.890546</td>\n",
       "      <td>0.576901</td>\n",
       "    </tr>\n",
       "  </tbody>\n",
       "</table>\n",
       "</div>"
      ],
      "text/plain": [
       "             Tencent   Alibaba     Baidu        JD\n",
       "2018-01-01  0.543405  0.278369  0.424518  0.844776\n",
       "2018-01-02  0.004719  0.121569  0.670749  0.825853\n",
       "2018-01-03  0.136707  0.575093  0.891322  0.209202\n",
       "2018-01-04  0.185328  0.108377  0.219697  0.978624\n",
       "2018-01-05  0.811683  0.171941  0.816225  0.274074\n",
       "2018-01-06  0.431704  0.940030  0.817649  0.336112\n",
       "2018-01-07  0.175410  0.372832  0.005689  0.252426\n",
       "2018-01-08  0.795663  0.015255  0.598843  0.603805\n",
       "2018-01-09  0.105148  0.381943  0.036476  0.890412\n",
       "2018-01-10  0.980921  0.059942  0.890546  0.576901"
      ]
     },
     "execution_count": 71,
     "metadata": {},
     "output_type": "execute_result"
    }
   ],
   "source": [
    "df"
   ]
  },
  {
   "cell_type": "code",
   "execution_count": 72,
   "metadata": {},
   "outputs": [
    {
     "data": {
      "text/plain": [
       "2018-01-01    0.543405\n",
       "2018-01-02    0.004719\n",
       "2018-01-03    0.136707\n",
       "2018-01-04    0.185328\n",
       "2018-01-05    0.811683\n",
       "2018-01-06    0.431704\n",
       "2018-01-07    0.175410\n",
       "2018-01-08    0.795663\n",
       "2018-01-09    0.105148\n",
       "2018-01-10    0.980921\n",
       "Freq: D, Name: Tencent, dtype: float64"
      ]
     },
     "execution_count": 72,
     "metadata": {},
     "output_type": "execute_result"
    }
   ],
   "source": [
    "# you can access a specific column\n",
    "df['Tencent']\n",
    "# type(df['Tencent'])"
   ]
  },
  {
   "cell_type": "code",
   "execution_count": 73,
   "metadata": {},
   "outputs": [
    {
     "data": {
      "text/html": [
       "<div>\n",
       "<style scoped>\n",
       "    .dataframe tbody tr th:only-of-type {\n",
       "        vertical-align: middle;\n",
       "    }\n",
       "\n",
       "    .dataframe tbody tr th {\n",
       "        vertical-align: top;\n",
       "    }\n",
       "\n",
       "    .dataframe thead th {\n",
       "        text-align: right;\n",
       "    }\n",
       "</style>\n",
       "<table border=\"1\" class=\"dataframe\">\n",
       "  <thead>\n",
       "    <tr style=\"text-align: right;\">\n",
       "      <th></th>\n",
       "      <th>Tencent</th>\n",
       "    </tr>\n",
       "  </thead>\n",
       "  <tbody>\n",
       "    <tr>\n",
       "      <th>2018-01-01</th>\n",
       "      <td>0.543405</td>\n",
       "    </tr>\n",
       "    <tr>\n",
       "      <th>2018-01-02</th>\n",
       "      <td>0.004719</td>\n",
       "    </tr>\n",
       "    <tr>\n",
       "      <th>2018-01-03</th>\n",
       "      <td>0.136707</td>\n",
       "    </tr>\n",
       "    <tr>\n",
       "      <th>2018-01-04</th>\n",
       "      <td>0.185328</td>\n",
       "    </tr>\n",
       "    <tr>\n",
       "      <th>2018-01-05</th>\n",
       "      <td>0.811683</td>\n",
       "    </tr>\n",
       "    <tr>\n",
       "      <th>2018-01-06</th>\n",
       "      <td>0.431704</td>\n",
       "    </tr>\n",
       "    <tr>\n",
       "      <th>2018-01-07</th>\n",
       "      <td>0.175410</td>\n",
       "    </tr>\n",
       "    <tr>\n",
       "      <th>2018-01-08</th>\n",
       "      <td>0.795663</td>\n",
       "    </tr>\n",
       "    <tr>\n",
       "      <th>2018-01-09</th>\n",
       "      <td>0.105148</td>\n",
       "    </tr>\n",
       "    <tr>\n",
       "      <th>2018-01-10</th>\n",
       "      <td>0.980921</td>\n",
       "    </tr>\n",
       "  </tbody>\n",
       "</table>\n",
       "</div>"
      ],
      "text/plain": [
       "             Tencent\n",
       "2018-01-01  0.543405\n",
       "2018-01-02  0.004719\n",
       "2018-01-03  0.136707\n",
       "2018-01-04  0.185328\n",
       "2018-01-05  0.811683\n",
       "2018-01-06  0.431704\n",
       "2018-01-07  0.175410\n",
       "2018-01-08  0.795663\n",
       "2018-01-09  0.105148\n",
       "2018-01-10  0.980921"
      ]
     },
     "execution_count": 73,
     "metadata": {},
     "output_type": "execute_result"
    }
   ],
   "source": [
    "df[['Tencent']]\n",
    "# type(df[['Tencent']])"
   ]
  },
  {
   "cell_type": "code",
   "execution_count": 74,
   "metadata": {},
   "outputs": [
    {
     "data": {
      "text/html": [
       "<div>\n",
       "<style scoped>\n",
       "    .dataframe tbody tr th:only-of-type {\n",
       "        vertical-align: middle;\n",
       "    }\n",
       "\n",
       "    .dataframe tbody tr th {\n",
       "        vertical-align: top;\n",
       "    }\n",
       "\n",
       "    .dataframe thead th {\n",
       "        text-align: right;\n",
       "    }\n",
       "</style>\n",
       "<table border=\"1\" class=\"dataframe\">\n",
       "  <thead>\n",
       "    <tr style=\"text-align: right;\">\n",
       "      <th></th>\n",
       "      <th>Tencent</th>\n",
       "    </tr>\n",
       "  </thead>\n",
       "  <tbody>\n",
       "    <tr>\n",
       "      <th>count</th>\n",
       "      <td>10.000000</td>\n",
       "    </tr>\n",
       "    <tr>\n",
       "      <th>mean</th>\n",
       "      <td>0.417069</td>\n",
       "    </tr>\n",
       "    <tr>\n",
       "      <th>std</th>\n",
       "      <td>0.348200</td>\n",
       "    </tr>\n",
       "    <tr>\n",
       "      <th>min</th>\n",
       "      <td>0.004719</td>\n",
       "    </tr>\n",
       "    <tr>\n",
       "      <th>25%</th>\n",
       "      <td>0.146383</td>\n",
       "    </tr>\n",
       "    <tr>\n",
       "      <th>50%</th>\n",
       "      <td>0.308516</td>\n",
       "    </tr>\n",
       "    <tr>\n",
       "      <th>75%</th>\n",
       "      <td>0.732598</td>\n",
       "    </tr>\n",
       "    <tr>\n",
       "      <th>max</th>\n",
       "      <td>0.980921</td>\n",
       "    </tr>\n",
       "  </tbody>\n",
       "</table>\n",
       "</div>"
      ],
      "text/plain": [
       "         Tencent\n",
       "count  10.000000\n",
       "mean    0.417069\n",
       "std     0.348200\n",
       "min     0.004719\n",
       "25%     0.146383\n",
       "50%     0.308516\n",
       "75%     0.732598\n",
       "max     0.980921"
      ]
     },
     "execution_count": 74,
     "metadata": {},
     "output_type": "execute_result"
    }
   ],
   "source": [
    "df[['Tencent']].describe()"
   ]
  },
  {
   "cell_type": "code",
   "execution_count": 75,
   "metadata": {},
   "outputs": [
    {
     "data": {
      "text/html": [
       "<div>\n",
       "<style scoped>\n",
       "    .dataframe tbody tr th:only-of-type {\n",
       "        vertical-align: middle;\n",
       "    }\n",
       "\n",
       "    .dataframe tbody tr th {\n",
       "        vertical-align: top;\n",
       "    }\n",
       "\n",
       "    .dataframe thead th {\n",
       "        text-align: right;\n",
       "    }\n",
       "</style>\n",
       "<table border=\"1\" class=\"dataframe\">\n",
       "  <thead>\n",
       "    <tr style=\"text-align: right;\">\n",
       "      <th></th>\n",
       "      <th>Tencent</th>\n",
       "      <th>Baidu</th>\n",
       "    </tr>\n",
       "  </thead>\n",
       "  <tbody>\n",
       "    <tr>\n",
       "      <th>2018-01-01</th>\n",
       "      <td>0.543405</td>\n",
       "      <td>0.424518</td>\n",
       "    </tr>\n",
       "    <tr>\n",
       "      <th>2018-01-02</th>\n",
       "      <td>0.004719</td>\n",
       "      <td>0.670749</td>\n",
       "    </tr>\n",
       "    <tr>\n",
       "      <th>2018-01-03</th>\n",
       "      <td>0.136707</td>\n",
       "      <td>0.891322</td>\n",
       "    </tr>\n",
       "    <tr>\n",
       "      <th>2018-01-04</th>\n",
       "      <td>0.185328</td>\n",
       "      <td>0.219697</td>\n",
       "    </tr>\n",
       "    <tr>\n",
       "      <th>2018-01-05</th>\n",
       "      <td>0.811683</td>\n",
       "      <td>0.816225</td>\n",
       "    </tr>\n",
       "    <tr>\n",
       "      <th>2018-01-06</th>\n",
       "      <td>0.431704</td>\n",
       "      <td>0.817649</td>\n",
       "    </tr>\n",
       "    <tr>\n",
       "      <th>2018-01-07</th>\n",
       "      <td>0.175410</td>\n",
       "      <td>0.005689</td>\n",
       "    </tr>\n",
       "    <tr>\n",
       "      <th>2018-01-08</th>\n",
       "      <td>0.795663</td>\n",
       "      <td>0.598843</td>\n",
       "    </tr>\n",
       "    <tr>\n",
       "      <th>2018-01-09</th>\n",
       "      <td>0.105148</td>\n",
       "      <td>0.036476</td>\n",
       "    </tr>\n",
       "    <tr>\n",
       "      <th>2018-01-10</th>\n",
       "      <td>0.980921</td>\n",
       "      <td>0.890546</td>\n",
       "    </tr>\n",
       "  </tbody>\n",
       "</table>\n",
       "</div>"
      ],
      "text/plain": [
       "             Tencent     Baidu\n",
       "2018-01-01  0.543405  0.424518\n",
       "2018-01-02  0.004719  0.670749\n",
       "2018-01-03  0.136707  0.891322\n",
       "2018-01-04  0.185328  0.219697\n",
       "2018-01-05  0.811683  0.816225\n",
       "2018-01-06  0.431704  0.817649\n",
       "2018-01-07  0.175410  0.005689\n",
       "2018-01-08  0.795663  0.598843\n",
       "2018-01-09  0.105148  0.036476\n",
       "2018-01-10  0.980921  0.890546"
      ]
     },
     "execution_count": 75,
     "metadata": {},
     "output_type": "execute_result"
    }
   ],
   "source": [
    "df[['Tencent', 'Baidu']]"
   ]
  },
  {
   "cell_type": "code",
   "execution_count": 76,
   "metadata": {},
   "outputs": [
    {
     "data": {
      "text/html": [
       "<div>\n",
       "<style scoped>\n",
       "    .dataframe tbody tr th:only-of-type {\n",
       "        vertical-align: middle;\n",
       "    }\n",
       "\n",
       "    .dataframe tbody tr th {\n",
       "        vertical-align: top;\n",
       "    }\n",
       "\n",
       "    .dataframe thead th {\n",
       "        text-align: right;\n",
       "    }\n",
       "</style>\n",
       "<table border=\"1\" class=\"dataframe\">\n",
       "  <thead>\n",
       "    <tr style=\"text-align: right;\">\n",
       "      <th></th>\n",
       "      <th>Tencent</th>\n",
       "      <th>Alibaba</th>\n",
       "      <th>Baidu</th>\n",
       "      <th>JD</th>\n",
       "      <th>sum_Tencent&amp;Baidu</th>\n",
       "    </tr>\n",
       "  </thead>\n",
       "  <tbody>\n",
       "    <tr>\n",
       "      <th>2018-01-01</th>\n",
       "      <td>0.543405</td>\n",
       "      <td>0.278369</td>\n",
       "      <td>0.424518</td>\n",
       "      <td>0.844776</td>\n",
       "      <td>0.967923</td>\n",
       "    </tr>\n",
       "    <tr>\n",
       "      <th>2018-01-02</th>\n",
       "      <td>0.004719</td>\n",
       "      <td>0.121569</td>\n",
       "      <td>0.670749</td>\n",
       "      <td>0.825853</td>\n",
       "      <td>0.675468</td>\n",
       "    </tr>\n",
       "    <tr>\n",
       "      <th>2018-01-03</th>\n",
       "      <td>0.136707</td>\n",
       "      <td>0.575093</td>\n",
       "      <td>0.891322</td>\n",
       "      <td>0.209202</td>\n",
       "      <td>1.028029</td>\n",
       "    </tr>\n",
       "    <tr>\n",
       "      <th>2018-01-04</th>\n",
       "      <td>0.185328</td>\n",
       "      <td>0.108377</td>\n",
       "      <td>0.219697</td>\n",
       "      <td>0.978624</td>\n",
       "      <td>0.405026</td>\n",
       "    </tr>\n",
       "    <tr>\n",
       "      <th>2018-01-05</th>\n",
       "      <td>0.811683</td>\n",
       "      <td>0.171941</td>\n",
       "      <td>0.816225</td>\n",
       "      <td>0.274074</td>\n",
       "      <td>1.627908</td>\n",
       "    </tr>\n",
       "    <tr>\n",
       "      <th>2018-01-06</th>\n",
       "      <td>0.431704</td>\n",
       "      <td>0.940030</td>\n",
       "      <td>0.817649</td>\n",
       "      <td>0.336112</td>\n",
       "      <td>1.249354</td>\n",
       "    </tr>\n",
       "    <tr>\n",
       "      <th>2018-01-07</th>\n",
       "      <td>0.175410</td>\n",
       "      <td>0.372832</td>\n",
       "      <td>0.005689</td>\n",
       "      <td>0.252426</td>\n",
       "      <td>0.181099</td>\n",
       "    </tr>\n",
       "    <tr>\n",
       "      <th>2018-01-08</th>\n",
       "      <td>0.795663</td>\n",
       "      <td>0.015255</td>\n",
       "      <td>0.598843</td>\n",
       "      <td>0.603805</td>\n",
       "      <td>1.394506</td>\n",
       "    </tr>\n",
       "    <tr>\n",
       "      <th>2018-01-09</th>\n",
       "      <td>0.105148</td>\n",
       "      <td>0.381943</td>\n",
       "      <td>0.036476</td>\n",
       "      <td>0.890412</td>\n",
       "      <td>0.141624</td>\n",
       "    </tr>\n",
       "    <tr>\n",
       "      <th>2018-01-10</th>\n",
       "      <td>0.980921</td>\n",
       "      <td>0.059942</td>\n",
       "      <td>0.890546</td>\n",
       "      <td>0.576901</td>\n",
       "      <td>1.871467</td>\n",
       "    </tr>\n",
       "  </tbody>\n",
       "</table>\n",
       "</div>"
      ],
      "text/plain": [
       "             Tencent   Alibaba     Baidu        JD  sum_Tencent&Baidu\n",
       "2018-01-01  0.543405  0.278369  0.424518  0.844776           0.967923\n",
       "2018-01-02  0.004719  0.121569  0.670749  0.825853           0.675468\n",
       "2018-01-03  0.136707  0.575093  0.891322  0.209202           1.028029\n",
       "2018-01-04  0.185328  0.108377  0.219697  0.978624           0.405026\n",
       "2018-01-05  0.811683  0.171941  0.816225  0.274074           1.627908\n",
       "2018-01-06  0.431704  0.940030  0.817649  0.336112           1.249354\n",
       "2018-01-07  0.175410  0.372832  0.005689  0.252426           0.181099\n",
       "2018-01-08  0.795663  0.015255  0.598843  0.603805           1.394506\n",
       "2018-01-09  0.105148  0.381943  0.036476  0.890412           0.141624\n",
       "2018-01-10  0.980921  0.059942  0.890546  0.576901           1.871467"
      ]
     },
     "execution_count": 76,
     "metadata": {},
     "output_type": "execute_result"
    }
   ],
   "source": [
    "df['sum_Tencent&Baidu'] = df['Tencent'] + df['Baidu']\n",
    "df"
   ]
  },
  {
   "cell_type": "code",
   "execution_count": 77,
   "metadata": {
    "scrolled": true
   },
   "outputs": [
    {
     "data": {
      "text/html": [
       "<div>\n",
       "<style scoped>\n",
       "    .dataframe tbody tr th:only-of-type {\n",
       "        vertical-align: middle;\n",
       "    }\n",
       "\n",
       "    .dataframe tbody tr th {\n",
       "        vertical-align: top;\n",
       "    }\n",
       "\n",
       "    .dataframe thead th {\n",
       "        text-align: right;\n",
       "    }\n",
       "</style>\n",
       "<table border=\"1\" class=\"dataframe\">\n",
       "  <thead>\n",
       "    <tr style=\"text-align: right;\">\n",
       "      <th></th>\n",
       "      <th>Tencent</th>\n",
       "      <th>Alibaba</th>\n",
       "      <th>Baidu</th>\n",
       "      <th>JD</th>\n",
       "      <th>sum_Tencent&amp;Baidu</th>\n",
       "    </tr>\n",
       "  </thead>\n",
       "  <tbody>\n",
       "    <tr>\n",
       "      <th>2018-01-02</th>\n",
       "      <td>0.004719</td>\n",
       "      <td>0.121569</td>\n",
       "      <td>0.670749</td>\n",
       "      <td>0.825853</td>\n",
       "      <td>0.675468</td>\n",
       "    </tr>\n",
       "    <tr>\n",
       "      <th>2018-01-03</th>\n",
       "      <td>0.136707</td>\n",
       "      <td>0.575093</td>\n",
       "      <td>0.891322</td>\n",
       "      <td>0.209202</td>\n",
       "      <td>1.028029</td>\n",
       "    </tr>\n",
       "    <tr>\n",
       "      <th>2018-01-04</th>\n",
       "      <td>0.185328</td>\n",
       "      <td>0.108377</td>\n",
       "      <td>0.219697</td>\n",
       "      <td>0.978624</td>\n",
       "      <td>0.405026</td>\n",
       "    </tr>\n",
       "    <tr>\n",
       "      <th>2018-01-05</th>\n",
       "      <td>0.811683</td>\n",
       "      <td>0.171941</td>\n",
       "      <td>0.816225</td>\n",
       "      <td>0.274074</td>\n",
       "      <td>1.627908</td>\n",
       "    </tr>\n",
       "    <tr>\n",
       "      <th>2018-01-06</th>\n",
       "      <td>0.431704</td>\n",
       "      <td>0.940030</td>\n",
       "      <td>0.817649</td>\n",
       "      <td>0.336112</td>\n",
       "      <td>1.249354</td>\n",
       "    </tr>\n",
       "    <tr>\n",
       "      <th>2018-01-07</th>\n",
       "      <td>0.175410</td>\n",
       "      <td>0.372832</td>\n",
       "      <td>0.005689</td>\n",
       "      <td>0.252426</td>\n",
       "      <td>0.181099</td>\n",
       "    </tr>\n",
       "    <tr>\n",
       "      <th>2018-01-08</th>\n",
       "      <td>0.795663</td>\n",
       "      <td>0.015255</td>\n",
       "      <td>0.598843</td>\n",
       "      <td>0.603805</td>\n",
       "      <td>1.394506</td>\n",
       "    </tr>\n",
       "    <tr>\n",
       "      <th>2018-01-09</th>\n",
       "      <td>0.105148</td>\n",
       "      <td>0.381943</td>\n",
       "      <td>0.036476</td>\n",
       "      <td>0.890412</td>\n",
       "      <td>0.141624</td>\n",
       "    </tr>\n",
       "    <tr>\n",
       "      <th>2018-01-10</th>\n",
       "      <td>0.980921</td>\n",
       "      <td>0.059942</td>\n",
       "      <td>0.890546</td>\n",
       "      <td>0.576901</td>\n",
       "      <td>1.871467</td>\n",
       "    </tr>\n",
       "  </tbody>\n",
       "</table>\n",
       "</div>"
      ],
      "text/plain": [
       "             Tencent   Alibaba     Baidu        JD  sum_Tencent&Baidu\n",
       "2018-01-02  0.004719  0.121569  0.670749  0.825853           0.675468\n",
       "2018-01-03  0.136707  0.575093  0.891322  0.209202           1.028029\n",
       "2018-01-04  0.185328  0.108377  0.219697  0.978624           0.405026\n",
       "2018-01-05  0.811683  0.171941  0.816225  0.274074           1.627908\n",
       "2018-01-06  0.431704  0.940030  0.817649  0.336112           1.249354\n",
       "2018-01-07  0.175410  0.372832  0.005689  0.252426           0.181099\n",
       "2018-01-08  0.795663  0.015255  0.598843  0.603805           1.394506\n",
       "2018-01-09  0.105148  0.381943  0.036476  0.890412           0.141624\n",
       "2018-01-10  0.980921  0.059942  0.890546  0.576901           1.871467"
      ]
     },
     "execution_count": 77,
     "metadata": {},
     "output_type": "execute_result"
    }
   ],
   "source": [
    "df.drop('2018-01-01',axis=0)"
   ]
  },
  {
   "cell_type": "code",
   "execution_count": 78,
   "metadata": {},
   "outputs": [
    {
     "data": {
      "text/html": [
       "<div>\n",
       "<style scoped>\n",
       "    .dataframe tbody tr th:only-of-type {\n",
       "        vertical-align: middle;\n",
       "    }\n",
       "\n",
       "    .dataframe tbody tr th {\n",
       "        vertical-align: top;\n",
       "    }\n",
       "\n",
       "    .dataframe thead th {\n",
       "        text-align: right;\n",
       "    }\n",
       "</style>\n",
       "<table border=\"1\" class=\"dataframe\">\n",
       "  <thead>\n",
       "    <tr style=\"text-align: right;\">\n",
       "      <th></th>\n",
       "      <th>Tencent</th>\n",
       "      <th>Alibaba</th>\n",
       "      <th>Baidu</th>\n",
       "      <th>JD</th>\n",
       "    </tr>\n",
       "  </thead>\n",
       "  <tbody>\n",
       "    <tr>\n",
       "      <th>2018-01-01</th>\n",
       "      <td>0.543405</td>\n",
       "      <td>0.278369</td>\n",
       "      <td>0.424518</td>\n",
       "      <td>0.844776</td>\n",
       "    </tr>\n",
       "    <tr>\n",
       "      <th>2018-01-02</th>\n",
       "      <td>0.004719</td>\n",
       "      <td>0.121569</td>\n",
       "      <td>0.670749</td>\n",
       "      <td>0.825853</td>\n",
       "    </tr>\n",
       "    <tr>\n",
       "      <th>2018-01-03</th>\n",
       "      <td>0.136707</td>\n",
       "      <td>0.575093</td>\n",
       "      <td>0.891322</td>\n",
       "      <td>0.209202</td>\n",
       "    </tr>\n",
       "    <tr>\n",
       "      <th>2018-01-04</th>\n",
       "      <td>0.185328</td>\n",
       "      <td>0.108377</td>\n",
       "      <td>0.219697</td>\n",
       "      <td>0.978624</td>\n",
       "    </tr>\n",
       "    <tr>\n",
       "      <th>2018-01-05</th>\n",
       "      <td>0.811683</td>\n",
       "      <td>0.171941</td>\n",
       "      <td>0.816225</td>\n",
       "      <td>0.274074</td>\n",
       "    </tr>\n",
       "    <tr>\n",
       "      <th>2018-01-06</th>\n",
       "      <td>0.431704</td>\n",
       "      <td>0.940030</td>\n",
       "      <td>0.817649</td>\n",
       "      <td>0.336112</td>\n",
       "    </tr>\n",
       "    <tr>\n",
       "      <th>2018-01-07</th>\n",
       "      <td>0.175410</td>\n",
       "      <td>0.372832</td>\n",
       "      <td>0.005689</td>\n",
       "      <td>0.252426</td>\n",
       "    </tr>\n",
       "    <tr>\n",
       "      <th>2018-01-08</th>\n",
       "      <td>0.795663</td>\n",
       "      <td>0.015255</td>\n",
       "      <td>0.598843</td>\n",
       "      <td>0.603805</td>\n",
       "    </tr>\n",
       "    <tr>\n",
       "      <th>2018-01-09</th>\n",
       "      <td>0.105148</td>\n",
       "      <td>0.381943</td>\n",
       "      <td>0.036476</td>\n",
       "      <td>0.890412</td>\n",
       "    </tr>\n",
       "    <tr>\n",
       "      <th>2018-01-10</th>\n",
       "      <td>0.980921</td>\n",
       "      <td>0.059942</td>\n",
       "      <td>0.890546</td>\n",
       "      <td>0.576901</td>\n",
       "    </tr>\n",
       "  </tbody>\n",
       "</table>\n",
       "</div>"
      ],
      "text/plain": [
       "             Tencent   Alibaba     Baidu        JD\n",
       "2018-01-01  0.543405  0.278369  0.424518  0.844776\n",
       "2018-01-02  0.004719  0.121569  0.670749  0.825853\n",
       "2018-01-03  0.136707  0.575093  0.891322  0.209202\n",
       "2018-01-04  0.185328  0.108377  0.219697  0.978624\n",
       "2018-01-05  0.811683  0.171941  0.816225  0.274074\n",
       "2018-01-06  0.431704  0.940030  0.817649  0.336112\n",
       "2018-01-07  0.175410  0.372832  0.005689  0.252426\n",
       "2018-01-08  0.795663  0.015255  0.598843  0.603805\n",
       "2018-01-09  0.105148  0.381943  0.036476  0.890412\n",
       "2018-01-10  0.980921  0.059942  0.890546  0.576901"
      ]
     },
     "execution_count": 78,
     "metadata": {},
     "output_type": "execute_result"
    }
   ],
   "source": [
    "df.drop('sum_Tencent&Baidu',axis=1)  "
   ]
  },
  {
   "cell_type": "code",
   "execution_count": 79,
   "metadata": {},
   "outputs": [
    {
     "data": {
      "text/html": [
       "<div>\n",
       "<style scoped>\n",
       "    .dataframe tbody tr th:only-of-type {\n",
       "        vertical-align: middle;\n",
       "    }\n",
       "\n",
       "    .dataframe tbody tr th {\n",
       "        vertical-align: top;\n",
       "    }\n",
       "\n",
       "    .dataframe thead th {\n",
       "        text-align: right;\n",
       "    }\n",
       "</style>\n",
       "<table border=\"1\" class=\"dataframe\">\n",
       "  <thead>\n",
       "    <tr style=\"text-align: right;\">\n",
       "      <th></th>\n",
       "      <th>Tencent</th>\n",
       "      <th>Alibaba</th>\n",
       "      <th>Baidu</th>\n",
       "      <th>JD</th>\n",
       "      <th>sum_Tencent&amp;Baidu</th>\n",
       "    </tr>\n",
       "  </thead>\n",
       "  <tbody>\n",
       "    <tr>\n",
       "      <th>2018-01-01</th>\n",
       "      <td>0.543405</td>\n",
       "      <td>0.278369</td>\n",
       "      <td>0.424518</td>\n",
       "      <td>0.844776</td>\n",
       "      <td>0.967923</td>\n",
       "    </tr>\n",
       "    <tr>\n",
       "      <th>2018-01-02</th>\n",
       "      <td>0.004719</td>\n",
       "      <td>0.121569</td>\n",
       "      <td>0.670749</td>\n",
       "      <td>0.825853</td>\n",
       "      <td>0.675468</td>\n",
       "    </tr>\n",
       "    <tr>\n",
       "      <th>2018-01-03</th>\n",
       "      <td>0.136707</td>\n",
       "      <td>0.575093</td>\n",
       "      <td>0.891322</td>\n",
       "      <td>0.209202</td>\n",
       "      <td>1.028029</td>\n",
       "    </tr>\n",
       "    <tr>\n",
       "      <th>2018-01-04</th>\n",
       "      <td>0.185328</td>\n",
       "      <td>0.108377</td>\n",
       "      <td>0.219697</td>\n",
       "      <td>0.978624</td>\n",
       "      <td>0.405026</td>\n",
       "    </tr>\n",
       "    <tr>\n",
       "      <th>2018-01-05</th>\n",
       "      <td>0.811683</td>\n",
       "      <td>0.171941</td>\n",
       "      <td>0.816225</td>\n",
       "      <td>0.274074</td>\n",
       "      <td>1.627908</td>\n",
       "    </tr>\n",
       "    <tr>\n",
       "      <th>2018-01-06</th>\n",
       "      <td>0.431704</td>\n",
       "      <td>0.940030</td>\n",
       "      <td>0.817649</td>\n",
       "      <td>0.336112</td>\n",
       "      <td>1.249354</td>\n",
       "    </tr>\n",
       "    <tr>\n",
       "      <th>2018-01-07</th>\n",
       "      <td>0.175410</td>\n",
       "      <td>0.372832</td>\n",
       "      <td>0.005689</td>\n",
       "      <td>0.252426</td>\n",
       "      <td>0.181099</td>\n",
       "    </tr>\n",
       "    <tr>\n",
       "      <th>2018-01-08</th>\n",
       "      <td>0.795663</td>\n",
       "      <td>0.015255</td>\n",
       "      <td>0.598843</td>\n",
       "      <td>0.603805</td>\n",
       "      <td>1.394506</td>\n",
       "    </tr>\n",
       "    <tr>\n",
       "      <th>2018-01-09</th>\n",
       "      <td>0.105148</td>\n",
       "      <td>0.381943</td>\n",
       "      <td>0.036476</td>\n",
       "      <td>0.890412</td>\n",
       "      <td>0.141624</td>\n",
       "    </tr>\n",
       "    <tr>\n",
       "      <th>2018-01-10</th>\n",
       "      <td>0.980921</td>\n",
       "      <td>0.059942</td>\n",
       "      <td>0.890546</td>\n",
       "      <td>0.576901</td>\n",
       "      <td>1.871467</td>\n",
       "    </tr>\n",
       "  </tbody>\n",
       "</table>\n",
       "</div>"
      ],
      "text/plain": [
       "             Tencent   Alibaba     Baidu        JD  sum_Tencent&Baidu\n",
       "2018-01-01  0.543405  0.278369  0.424518  0.844776           0.967923\n",
       "2018-01-02  0.004719  0.121569  0.670749  0.825853           0.675468\n",
       "2018-01-03  0.136707  0.575093  0.891322  0.209202           1.028029\n",
       "2018-01-04  0.185328  0.108377  0.219697  0.978624           0.405026\n",
       "2018-01-05  0.811683  0.171941  0.816225  0.274074           1.627908\n",
       "2018-01-06  0.431704  0.940030  0.817649  0.336112           1.249354\n",
       "2018-01-07  0.175410  0.372832  0.005689  0.252426           0.181099\n",
       "2018-01-08  0.795663  0.015255  0.598843  0.603805           1.394506\n",
       "2018-01-09  0.105148  0.381943  0.036476  0.890412           0.141624\n",
       "2018-01-10  0.980921  0.059942  0.890546  0.576901           1.871467"
      ]
     },
     "execution_count": 79,
     "metadata": {},
     "output_type": "execute_result"
    }
   ],
   "source": [
    "df"
   ]
  },
  {
   "cell_type": "code",
   "execution_count": 80,
   "metadata": {},
   "outputs": [],
   "source": [
    "df.drop('sum_Tencent&Baidu',axis=1,inplace=True)    \n",
    "# or alternatively use: df = df.drop('new', 1)"
   ]
  },
  {
   "cell_type": "code",
   "execution_count": 81,
   "metadata": {},
   "outputs": [
    {
     "data": {
      "text/html": [
       "<div>\n",
       "<style scoped>\n",
       "    .dataframe tbody tr th:only-of-type {\n",
       "        vertical-align: middle;\n",
       "    }\n",
       "\n",
       "    .dataframe tbody tr th {\n",
       "        vertical-align: top;\n",
       "    }\n",
       "\n",
       "    .dataframe thead th {\n",
       "        text-align: right;\n",
       "    }\n",
       "</style>\n",
       "<table border=\"1\" class=\"dataframe\">\n",
       "  <thead>\n",
       "    <tr style=\"text-align: right;\">\n",
       "      <th></th>\n",
       "      <th>Tencent</th>\n",
       "      <th>Alibaba</th>\n",
       "      <th>Baidu</th>\n",
       "      <th>JD</th>\n",
       "    </tr>\n",
       "  </thead>\n",
       "  <tbody>\n",
       "    <tr>\n",
       "      <th>2018-01-01</th>\n",
       "      <td>0.543405</td>\n",
       "      <td>0.278369</td>\n",
       "      <td>0.424518</td>\n",
       "      <td>0.844776</td>\n",
       "    </tr>\n",
       "    <tr>\n",
       "      <th>2018-01-02</th>\n",
       "      <td>0.004719</td>\n",
       "      <td>0.121569</td>\n",
       "      <td>0.670749</td>\n",
       "      <td>0.825853</td>\n",
       "    </tr>\n",
       "    <tr>\n",
       "      <th>2018-01-03</th>\n",
       "      <td>0.136707</td>\n",
       "      <td>0.575093</td>\n",
       "      <td>0.891322</td>\n",
       "      <td>0.209202</td>\n",
       "    </tr>\n",
       "    <tr>\n",
       "      <th>2018-01-04</th>\n",
       "      <td>0.185328</td>\n",
       "      <td>0.108377</td>\n",
       "      <td>0.219697</td>\n",
       "      <td>0.978624</td>\n",
       "    </tr>\n",
       "    <tr>\n",
       "      <th>2018-01-05</th>\n",
       "      <td>0.811683</td>\n",
       "      <td>0.171941</td>\n",
       "      <td>0.816225</td>\n",
       "      <td>0.274074</td>\n",
       "    </tr>\n",
       "    <tr>\n",
       "      <th>2018-01-06</th>\n",
       "      <td>0.431704</td>\n",
       "      <td>0.940030</td>\n",
       "      <td>0.817649</td>\n",
       "      <td>0.336112</td>\n",
       "    </tr>\n",
       "    <tr>\n",
       "      <th>2018-01-07</th>\n",
       "      <td>0.175410</td>\n",
       "      <td>0.372832</td>\n",
       "      <td>0.005689</td>\n",
       "      <td>0.252426</td>\n",
       "    </tr>\n",
       "    <tr>\n",
       "      <th>2018-01-08</th>\n",
       "      <td>0.795663</td>\n",
       "      <td>0.015255</td>\n",
       "      <td>0.598843</td>\n",
       "      <td>0.603805</td>\n",
       "    </tr>\n",
       "    <tr>\n",
       "      <th>2018-01-09</th>\n",
       "      <td>0.105148</td>\n",
       "      <td>0.381943</td>\n",
       "      <td>0.036476</td>\n",
       "      <td>0.890412</td>\n",
       "    </tr>\n",
       "    <tr>\n",
       "      <th>2018-01-10</th>\n",
       "      <td>0.980921</td>\n",
       "      <td>0.059942</td>\n",
       "      <td>0.890546</td>\n",
       "      <td>0.576901</td>\n",
       "    </tr>\n",
       "  </tbody>\n",
       "</table>\n",
       "</div>"
      ],
      "text/plain": [
       "             Tencent   Alibaba     Baidu        JD\n",
       "2018-01-01  0.543405  0.278369  0.424518  0.844776\n",
       "2018-01-02  0.004719  0.121569  0.670749  0.825853\n",
       "2018-01-03  0.136707  0.575093  0.891322  0.209202\n",
       "2018-01-04  0.185328  0.108377  0.219697  0.978624\n",
       "2018-01-05  0.811683  0.171941  0.816225  0.274074\n",
       "2018-01-06  0.431704  0.940030  0.817649  0.336112\n",
       "2018-01-07  0.175410  0.372832  0.005689  0.252426\n",
       "2018-01-08  0.795663  0.015255  0.598843  0.603805\n",
       "2018-01-09  0.105148  0.381943  0.036476  0.890412\n",
       "2018-01-10  0.980921  0.059942  0.890546  0.576901"
      ]
     },
     "execution_count": 81,
     "metadata": {},
     "output_type": "execute_result"
    }
   ],
   "source": [
    "df"
   ]
  },
  {
   "cell_type": "markdown",
   "metadata": {},
   "source": [
    "### Conditional extraction\n",
    "This is very similar to numpy array conditional extraction"
   ]
  },
  {
   "cell_type": "code",
   "execution_count": 82,
   "metadata": {},
   "outputs": [
    {
     "data": {
      "text/html": [
       "<div>\n",
       "<style scoped>\n",
       "    .dataframe tbody tr th:only-of-type {\n",
       "        vertical-align: middle;\n",
       "    }\n",
       "\n",
       "    .dataframe tbody tr th {\n",
       "        vertical-align: top;\n",
       "    }\n",
       "\n",
       "    .dataframe thead th {\n",
       "        text-align: right;\n",
       "    }\n",
       "</style>\n",
       "<table border=\"1\" class=\"dataframe\">\n",
       "  <thead>\n",
       "    <tr style=\"text-align: right;\">\n",
       "      <th></th>\n",
       "      <th>Tencent</th>\n",
       "      <th>Alibaba</th>\n",
       "      <th>Baidu</th>\n",
       "      <th>JD</th>\n",
       "    </tr>\n",
       "  </thead>\n",
       "  <tbody>\n",
       "    <tr>\n",
       "      <th>2018-01-01</th>\n",
       "      <td>0.543405</td>\n",
       "      <td>0.278369</td>\n",
       "      <td>0.424518</td>\n",
       "      <td>0.844776</td>\n",
       "    </tr>\n",
       "    <tr>\n",
       "      <th>2018-01-02</th>\n",
       "      <td>0.004719</td>\n",
       "      <td>0.121569</td>\n",
       "      <td>0.670749</td>\n",
       "      <td>0.825853</td>\n",
       "    </tr>\n",
       "    <tr>\n",
       "      <th>2018-01-03</th>\n",
       "      <td>0.136707</td>\n",
       "      <td>0.575093</td>\n",
       "      <td>0.891322</td>\n",
       "      <td>0.209202</td>\n",
       "    </tr>\n",
       "    <tr>\n",
       "      <th>2018-01-04</th>\n",
       "      <td>0.185328</td>\n",
       "      <td>0.108377</td>\n",
       "      <td>0.219697</td>\n",
       "      <td>0.978624</td>\n",
       "    </tr>\n",
       "    <tr>\n",
       "      <th>2018-01-05</th>\n",
       "      <td>0.811683</td>\n",
       "      <td>0.171941</td>\n",
       "      <td>0.816225</td>\n",
       "      <td>0.274074</td>\n",
       "    </tr>\n",
       "    <tr>\n",
       "      <th>2018-01-06</th>\n",
       "      <td>0.431704</td>\n",
       "      <td>0.940030</td>\n",
       "      <td>0.817649</td>\n",
       "      <td>0.336112</td>\n",
       "    </tr>\n",
       "    <tr>\n",
       "      <th>2018-01-07</th>\n",
       "      <td>0.175410</td>\n",
       "      <td>0.372832</td>\n",
       "      <td>0.005689</td>\n",
       "      <td>0.252426</td>\n",
       "    </tr>\n",
       "    <tr>\n",
       "      <th>2018-01-08</th>\n",
       "      <td>0.795663</td>\n",
       "      <td>0.015255</td>\n",
       "      <td>0.598843</td>\n",
       "      <td>0.603805</td>\n",
       "    </tr>\n",
       "    <tr>\n",
       "      <th>2018-01-09</th>\n",
       "      <td>0.105148</td>\n",
       "      <td>0.381943</td>\n",
       "      <td>0.036476</td>\n",
       "      <td>0.890412</td>\n",
       "    </tr>\n",
       "    <tr>\n",
       "      <th>2018-01-10</th>\n",
       "      <td>0.980921</td>\n",
       "      <td>0.059942</td>\n",
       "      <td>0.890546</td>\n",
       "      <td>0.576901</td>\n",
       "    </tr>\n",
       "  </tbody>\n",
       "</table>\n",
       "</div>"
      ],
      "text/plain": [
       "             Tencent   Alibaba     Baidu        JD\n",
       "2018-01-01  0.543405  0.278369  0.424518  0.844776\n",
       "2018-01-02  0.004719  0.121569  0.670749  0.825853\n",
       "2018-01-03  0.136707  0.575093  0.891322  0.209202\n",
       "2018-01-04  0.185328  0.108377  0.219697  0.978624\n",
       "2018-01-05  0.811683  0.171941  0.816225  0.274074\n",
       "2018-01-06  0.431704  0.940030  0.817649  0.336112\n",
       "2018-01-07  0.175410  0.372832  0.005689  0.252426\n",
       "2018-01-08  0.795663  0.015255  0.598843  0.603805\n",
       "2018-01-09  0.105148  0.381943  0.036476  0.890412\n",
       "2018-01-10  0.980921  0.059942  0.890546  0.576901"
      ]
     },
     "execution_count": 82,
     "metadata": {},
     "output_type": "execute_result"
    }
   ],
   "source": [
    "df"
   ]
  },
  {
   "cell_type": "code",
   "execution_count": 83,
   "metadata": {},
   "outputs": [
    {
     "data": {
      "text/html": [
       "<div>\n",
       "<style scoped>\n",
       "    .dataframe tbody tr th:only-of-type {\n",
       "        vertical-align: middle;\n",
       "    }\n",
       "\n",
       "    .dataframe tbody tr th {\n",
       "        vertical-align: top;\n",
       "    }\n",
       "\n",
       "    .dataframe thead th {\n",
       "        text-align: right;\n",
       "    }\n",
       "</style>\n",
       "<table border=\"1\" class=\"dataframe\">\n",
       "  <thead>\n",
       "    <tr style=\"text-align: right;\">\n",
       "      <th></th>\n",
       "      <th>Tencent</th>\n",
       "      <th>Alibaba</th>\n",
       "      <th>Baidu</th>\n",
       "      <th>JD</th>\n",
       "    </tr>\n",
       "  </thead>\n",
       "  <tbody>\n",
       "    <tr>\n",
       "      <th>2018-01-01</th>\n",
       "      <td>True</td>\n",
       "      <td>False</td>\n",
       "      <td>False</td>\n",
       "      <td>True</td>\n",
       "    </tr>\n",
       "    <tr>\n",
       "      <th>2018-01-02</th>\n",
       "      <td>False</td>\n",
       "      <td>False</td>\n",
       "      <td>True</td>\n",
       "      <td>True</td>\n",
       "    </tr>\n",
       "    <tr>\n",
       "      <th>2018-01-03</th>\n",
       "      <td>False</td>\n",
       "      <td>True</td>\n",
       "      <td>True</td>\n",
       "      <td>False</td>\n",
       "    </tr>\n",
       "    <tr>\n",
       "      <th>2018-01-04</th>\n",
       "      <td>False</td>\n",
       "      <td>False</td>\n",
       "      <td>False</td>\n",
       "      <td>True</td>\n",
       "    </tr>\n",
       "    <tr>\n",
       "      <th>2018-01-05</th>\n",
       "      <td>True</td>\n",
       "      <td>False</td>\n",
       "      <td>True</td>\n",
       "      <td>False</td>\n",
       "    </tr>\n",
       "    <tr>\n",
       "      <th>2018-01-06</th>\n",
       "      <td>False</td>\n",
       "      <td>True</td>\n",
       "      <td>True</td>\n",
       "      <td>False</td>\n",
       "    </tr>\n",
       "    <tr>\n",
       "      <th>2018-01-07</th>\n",
       "      <td>False</td>\n",
       "      <td>False</td>\n",
       "      <td>False</td>\n",
       "      <td>False</td>\n",
       "    </tr>\n",
       "    <tr>\n",
       "      <th>2018-01-08</th>\n",
       "      <td>True</td>\n",
       "      <td>False</td>\n",
       "      <td>True</td>\n",
       "      <td>True</td>\n",
       "    </tr>\n",
       "    <tr>\n",
       "      <th>2018-01-09</th>\n",
       "      <td>False</td>\n",
       "      <td>False</td>\n",
       "      <td>False</td>\n",
       "      <td>True</td>\n",
       "    </tr>\n",
       "    <tr>\n",
       "      <th>2018-01-10</th>\n",
       "      <td>True</td>\n",
       "      <td>False</td>\n",
       "      <td>True</td>\n",
       "      <td>True</td>\n",
       "    </tr>\n",
       "  </tbody>\n",
       "</table>\n",
       "</div>"
      ],
      "text/plain": [
       "            Tencent  Alibaba  Baidu     JD\n",
       "2018-01-01     True    False  False   True\n",
       "2018-01-02    False    False   True   True\n",
       "2018-01-03    False     True   True  False\n",
       "2018-01-04    False    False  False   True\n",
       "2018-01-05     True    False   True  False\n",
       "2018-01-06    False     True   True  False\n",
       "2018-01-07    False    False  False  False\n",
       "2018-01-08     True    False   True   True\n",
       "2018-01-09    False    False  False   True\n",
       "2018-01-10     True    False   True   True"
      ]
     },
     "execution_count": 83,
     "metadata": {},
     "output_type": "execute_result"
    }
   ],
   "source": [
    "df>0.5"
   ]
  },
  {
   "cell_type": "code",
   "execution_count": 84,
   "metadata": {},
   "outputs": [
    {
     "data": {
      "text/html": [
       "<div>\n",
       "<style scoped>\n",
       "    .dataframe tbody tr th:only-of-type {\n",
       "        vertical-align: middle;\n",
       "    }\n",
       "\n",
       "    .dataframe tbody tr th {\n",
       "        vertical-align: top;\n",
       "    }\n",
       "\n",
       "    .dataframe thead th {\n",
       "        text-align: right;\n",
       "    }\n",
       "</style>\n",
       "<table border=\"1\" class=\"dataframe\">\n",
       "  <thead>\n",
       "    <tr style=\"text-align: right;\">\n",
       "      <th></th>\n",
       "      <th>Tencent</th>\n",
       "      <th>Alibaba</th>\n",
       "      <th>Baidu</th>\n",
       "      <th>JD</th>\n",
       "    </tr>\n",
       "  </thead>\n",
       "  <tbody>\n",
       "    <tr>\n",
       "      <th>2018-01-01</th>\n",
       "      <td>0.543405</td>\n",
       "      <td>NaN</td>\n",
       "      <td>NaN</td>\n",
       "      <td>0.844776</td>\n",
       "    </tr>\n",
       "    <tr>\n",
       "      <th>2018-01-02</th>\n",
       "      <td>NaN</td>\n",
       "      <td>NaN</td>\n",
       "      <td>0.670749</td>\n",
       "      <td>0.825853</td>\n",
       "    </tr>\n",
       "    <tr>\n",
       "      <th>2018-01-03</th>\n",
       "      <td>NaN</td>\n",
       "      <td>0.575093</td>\n",
       "      <td>0.891322</td>\n",
       "      <td>NaN</td>\n",
       "    </tr>\n",
       "    <tr>\n",
       "      <th>2018-01-04</th>\n",
       "      <td>NaN</td>\n",
       "      <td>NaN</td>\n",
       "      <td>NaN</td>\n",
       "      <td>0.978624</td>\n",
       "    </tr>\n",
       "    <tr>\n",
       "      <th>2018-01-05</th>\n",
       "      <td>0.811683</td>\n",
       "      <td>NaN</td>\n",
       "      <td>0.816225</td>\n",
       "      <td>NaN</td>\n",
       "    </tr>\n",
       "    <tr>\n",
       "      <th>2018-01-06</th>\n",
       "      <td>NaN</td>\n",
       "      <td>0.940030</td>\n",
       "      <td>0.817649</td>\n",
       "      <td>NaN</td>\n",
       "    </tr>\n",
       "    <tr>\n",
       "      <th>2018-01-07</th>\n",
       "      <td>NaN</td>\n",
       "      <td>NaN</td>\n",
       "      <td>NaN</td>\n",
       "      <td>NaN</td>\n",
       "    </tr>\n",
       "    <tr>\n",
       "      <th>2018-01-08</th>\n",
       "      <td>0.795663</td>\n",
       "      <td>NaN</td>\n",
       "      <td>0.598843</td>\n",
       "      <td>0.603805</td>\n",
       "    </tr>\n",
       "    <tr>\n",
       "      <th>2018-01-09</th>\n",
       "      <td>NaN</td>\n",
       "      <td>NaN</td>\n",
       "      <td>NaN</td>\n",
       "      <td>0.890412</td>\n",
       "    </tr>\n",
       "    <tr>\n",
       "      <th>2018-01-10</th>\n",
       "      <td>0.980921</td>\n",
       "      <td>NaN</td>\n",
       "      <td>0.890546</td>\n",
       "      <td>0.576901</td>\n",
       "    </tr>\n",
       "  </tbody>\n",
       "</table>\n",
       "</div>"
      ],
      "text/plain": [
       "             Tencent   Alibaba     Baidu        JD\n",
       "2018-01-01  0.543405       NaN       NaN  0.844776\n",
       "2018-01-02       NaN       NaN  0.670749  0.825853\n",
       "2018-01-03       NaN  0.575093  0.891322       NaN\n",
       "2018-01-04       NaN       NaN       NaN  0.978624\n",
       "2018-01-05  0.811683       NaN  0.816225       NaN\n",
       "2018-01-06       NaN  0.940030  0.817649       NaN\n",
       "2018-01-07       NaN       NaN       NaN       NaN\n",
       "2018-01-08  0.795663       NaN  0.598843  0.603805\n",
       "2018-01-09       NaN       NaN       NaN  0.890412\n",
       "2018-01-10  0.980921       NaN  0.890546  0.576901"
      ]
     },
     "execution_count": 84,
     "metadata": {},
     "output_type": "execute_result"
    }
   ],
   "source": [
    "df[df>0.5]"
   ]
  },
  {
   "cell_type": "code",
   "execution_count": 85,
   "metadata": {},
   "outputs": [
    {
     "data": {
      "text/html": [
       "<div>\n",
       "<style scoped>\n",
       "    .dataframe tbody tr th:only-of-type {\n",
       "        vertical-align: middle;\n",
       "    }\n",
       "\n",
       "    .dataframe tbody tr th {\n",
       "        vertical-align: top;\n",
       "    }\n",
       "\n",
       "    .dataframe thead th {\n",
       "        text-align: right;\n",
       "    }\n",
       "</style>\n",
       "<table border=\"1\" class=\"dataframe\">\n",
       "  <thead>\n",
       "    <tr style=\"text-align: right;\">\n",
       "      <th></th>\n",
       "      <th>Tencent</th>\n",
       "      <th>Alibaba</th>\n",
       "      <th>Baidu</th>\n",
       "      <th>JD</th>\n",
       "    </tr>\n",
       "  </thead>\n",
       "  <tbody>\n",
       "    <tr>\n",
       "      <th>2018-01-01</th>\n",
       "      <td>0.543405</td>\n",
       "      <td>0.278369</td>\n",
       "      <td>0.424518</td>\n",
       "      <td>0.844776</td>\n",
       "    </tr>\n",
       "    <tr>\n",
       "      <th>2018-01-05</th>\n",
       "      <td>0.811683</td>\n",
       "      <td>0.171941</td>\n",
       "      <td>0.816225</td>\n",
       "      <td>0.274074</td>\n",
       "    </tr>\n",
       "    <tr>\n",
       "      <th>2018-01-08</th>\n",
       "      <td>0.795663</td>\n",
       "      <td>0.015255</td>\n",
       "      <td>0.598843</td>\n",
       "      <td>0.603805</td>\n",
       "    </tr>\n",
       "    <tr>\n",
       "      <th>2018-01-10</th>\n",
       "      <td>0.980921</td>\n",
       "      <td>0.059942</td>\n",
       "      <td>0.890546</td>\n",
       "      <td>0.576901</td>\n",
       "    </tr>\n",
       "  </tbody>\n",
       "</table>\n",
       "</div>"
      ],
      "text/plain": [
       "             Tencent   Alibaba     Baidu        JD\n",
       "2018-01-01  0.543405  0.278369  0.424518  0.844776\n",
       "2018-01-05  0.811683  0.171941  0.816225  0.274074\n",
       "2018-01-08  0.795663  0.015255  0.598843  0.603805\n",
       "2018-01-10  0.980921  0.059942  0.890546  0.576901"
      ]
     },
     "execution_count": 85,
     "metadata": {},
     "output_type": "execute_result"
    }
   ],
   "source": [
    "df[df['Tencent']>0.5]"
   ]
  },
  {
   "cell_type": "code",
   "execution_count": 86,
   "metadata": {},
   "outputs": [
    {
     "data": {
      "text/html": [
       "<div>\n",
       "<style scoped>\n",
       "    .dataframe tbody tr th:only-of-type {\n",
       "        vertical-align: middle;\n",
       "    }\n",
       "\n",
       "    .dataframe tbody tr th {\n",
       "        vertical-align: top;\n",
       "    }\n",
       "\n",
       "    .dataframe thead th {\n",
       "        text-align: right;\n",
       "    }\n",
       "</style>\n",
       "<table border=\"1\" class=\"dataframe\">\n",
       "  <thead>\n",
       "    <tr style=\"text-align: right;\">\n",
       "      <th></th>\n",
       "      <th>Tencent</th>\n",
       "      <th>Alibaba</th>\n",
       "      <th>Baidu</th>\n",
       "      <th>JD</th>\n",
       "    </tr>\n",
       "  </thead>\n",
       "  <tbody>\n",
       "    <tr>\n",
       "      <th>2018-01-01</th>\n",
       "      <td>0.543405</td>\n",
       "      <td>0.278369</td>\n",
       "      <td>0.424518</td>\n",
       "      <td>0.844776</td>\n",
       "    </tr>\n",
       "  </tbody>\n",
       "</table>\n",
       "</div>"
      ],
      "text/plain": [
       "             Tencent   Alibaba     Baidu        JD\n",
       "2018-01-01  0.543405  0.278369  0.424518  0.844776"
      ]
     },
     "execution_count": 86,
     "metadata": {},
     "output_type": "execute_result"
    }
   ],
   "source": [
    "df[(df['Tencent']>0.5) & (df['Baidu'] < 0.5)]"
   ]
  },
  {
   "cell_type": "markdown",
   "metadata": {},
   "source": [
    "### Generate Indicator Variable\n",
    "we want to generate a binary variable that equals 1 if Tencent is higher than 0.5, and 0 if Tencent is equal or lower than 0.5"
   ]
  },
  {
   "cell_type": "code",
   "execution_count": 87,
   "metadata": {
    "scrolled": true
   },
   "outputs": [
    {
     "data": {
      "text/html": [
       "<div>\n",
       "<style scoped>\n",
       "    .dataframe tbody tr th:only-of-type {\n",
       "        vertical-align: middle;\n",
       "    }\n",
       "\n",
       "    .dataframe tbody tr th {\n",
       "        vertical-align: top;\n",
       "    }\n",
       "\n",
       "    .dataframe thead th {\n",
       "        text-align: right;\n",
       "    }\n",
       "</style>\n",
       "<table border=\"1\" class=\"dataframe\">\n",
       "  <thead>\n",
       "    <tr style=\"text-align: right;\">\n",
       "      <th></th>\n",
       "      <th>Tencent</th>\n",
       "      <th>Alibaba</th>\n",
       "      <th>Baidu</th>\n",
       "      <th>JD</th>\n",
       "    </tr>\n",
       "  </thead>\n",
       "  <tbody>\n",
       "    <tr>\n",
       "      <th>2018-01-01</th>\n",
       "      <td>0.543405</td>\n",
       "      <td>0.278369</td>\n",
       "      <td>0.424518</td>\n",
       "      <td>0.844776</td>\n",
       "    </tr>\n",
       "    <tr>\n",
       "      <th>2018-01-02</th>\n",
       "      <td>0.004719</td>\n",
       "      <td>0.121569</td>\n",
       "      <td>0.670749</td>\n",
       "      <td>0.825853</td>\n",
       "    </tr>\n",
       "    <tr>\n",
       "      <th>2018-01-03</th>\n",
       "      <td>0.136707</td>\n",
       "      <td>0.575093</td>\n",
       "      <td>0.891322</td>\n",
       "      <td>0.209202</td>\n",
       "    </tr>\n",
       "    <tr>\n",
       "      <th>2018-01-04</th>\n",
       "      <td>0.185328</td>\n",
       "      <td>0.108377</td>\n",
       "      <td>0.219697</td>\n",
       "      <td>0.978624</td>\n",
       "    </tr>\n",
       "    <tr>\n",
       "      <th>2018-01-05</th>\n",
       "      <td>0.811683</td>\n",
       "      <td>0.171941</td>\n",
       "      <td>0.816225</td>\n",
       "      <td>0.274074</td>\n",
       "    </tr>\n",
       "    <tr>\n",
       "      <th>2018-01-06</th>\n",
       "      <td>0.431704</td>\n",
       "      <td>0.940030</td>\n",
       "      <td>0.817649</td>\n",
       "      <td>0.336112</td>\n",
       "    </tr>\n",
       "    <tr>\n",
       "      <th>2018-01-07</th>\n",
       "      <td>0.175410</td>\n",
       "      <td>0.372832</td>\n",
       "      <td>0.005689</td>\n",
       "      <td>0.252426</td>\n",
       "    </tr>\n",
       "    <tr>\n",
       "      <th>2018-01-08</th>\n",
       "      <td>0.795663</td>\n",
       "      <td>0.015255</td>\n",
       "      <td>0.598843</td>\n",
       "      <td>0.603805</td>\n",
       "    </tr>\n",
       "    <tr>\n",
       "      <th>2018-01-09</th>\n",
       "      <td>0.105148</td>\n",
       "      <td>0.381943</td>\n",
       "      <td>0.036476</td>\n",
       "      <td>0.890412</td>\n",
       "    </tr>\n",
       "    <tr>\n",
       "      <th>2018-01-10</th>\n",
       "      <td>0.980921</td>\n",
       "      <td>0.059942</td>\n",
       "      <td>0.890546</td>\n",
       "      <td>0.576901</td>\n",
       "    </tr>\n",
       "  </tbody>\n",
       "</table>\n",
       "</div>"
      ],
      "text/plain": [
       "             Tencent   Alibaba     Baidu        JD\n",
       "2018-01-01  0.543405  0.278369  0.424518  0.844776\n",
       "2018-01-02  0.004719  0.121569  0.670749  0.825853\n",
       "2018-01-03  0.136707  0.575093  0.891322  0.209202\n",
       "2018-01-04  0.185328  0.108377  0.219697  0.978624\n",
       "2018-01-05  0.811683  0.171941  0.816225  0.274074\n",
       "2018-01-06  0.431704  0.940030  0.817649  0.336112\n",
       "2018-01-07  0.175410  0.372832  0.005689  0.252426\n",
       "2018-01-08  0.795663  0.015255  0.598843  0.603805\n",
       "2018-01-09  0.105148  0.381943  0.036476  0.890412\n",
       "2018-01-10  0.980921  0.059942  0.890546  0.576901"
      ]
     },
     "execution_count": 87,
     "metadata": {},
     "output_type": "execute_result"
    }
   ],
   "source": [
    "df"
   ]
  },
  {
   "cell_type": "code",
   "execution_count": 88,
   "metadata": {},
   "outputs": [
    {
     "data": {
      "text/html": [
       "<div>\n",
       "<style scoped>\n",
       "    .dataframe tbody tr th:only-of-type {\n",
       "        vertical-align: middle;\n",
       "    }\n",
       "\n",
       "    .dataframe tbody tr th {\n",
       "        vertical-align: top;\n",
       "    }\n",
       "\n",
       "    .dataframe thead th {\n",
       "        text-align: right;\n",
       "    }\n",
       "</style>\n",
       "<table border=\"1\" class=\"dataframe\">\n",
       "  <thead>\n",
       "    <tr style=\"text-align: right;\">\n",
       "      <th></th>\n",
       "      <th>Tencent</th>\n",
       "      <th>Alibaba</th>\n",
       "      <th>Baidu</th>\n",
       "      <th>JD</th>\n",
       "      <th>Tencent_higher_than_half</th>\n",
       "    </tr>\n",
       "  </thead>\n",
       "  <tbody>\n",
       "    <tr>\n",
       "      <th>2018-01-01</th>\n",
       "      <td>0.543405</td>\n",
       "      <td>0.278369</td>\n",
       "      <td>0.424518</td>\n",
       "      <td>0.844776</td>\n",
       "      <td>0</td>\n",
       "    </tr>\n",
       "    <tr>\n",
       "      <th>2018-01-02</th>\n",
       "      <td>0.004719</td>\n",
       "      <td>0.121569</td>\n",
       "      <td>0.670749</td>\n",
       "      <td>0.825853</td>\n",
       "      <td>0</td>\n",
       "    </tr>\n",
       "    <tr>\n",
       "      <th>2018-01-03</th>\n",
       "      <td>0.136707</td>\n",
       "      <td>0.575093</td>\n",
       "      <td>0.891322</td>\n",
       "      <td>0.209202</td>\n",
       "      <td>0</td>\n",
       "    </tr>\n",
       "    <tr>\n",
       "      <th>2018-01-04</th>\n",
       "      <td>0.185328</td>\n",
       "      <td>0.108377</td>\n",
       "      <td>0.219697</td>\n",
       "      <td>0.978624</td>\n",
       "      <td>0</td>\n",
       "    </tr>\n",
       "    <tr>\n",
       "      <th>2018-01-05</th>\n",
       "      <td>0.811683</td>\n",
       "      <td>0.171941</td>\n",
       "      <td>0.816225</td>\n",
       "      <td>0.274074</td>\n",
       "      <td>0</td>\n",
       "    </tr>\n",
       "    <tr>\n",
       "      <th>2018-01-06</th>\n",
       "      <td>0.431704</td>\n",
       "      <td>0.940030</td>\n",
       "      <td>0.817649</td>\n",
       "      <td>0.336112</td>\n",
       "      <td>0</td>\n",
       "    </tr>\n",
       "    <tr>\n",
       "      <th>2018-01-07</th>\n",
       "      <td>0.175410</td>\n",
       "      <td>0.372832</td>\n",
       "      <td>0.005689</td>\n",
       "      <td>0.252426</td>\n",
       "      <td>0</td>\n",
       "    </tr>\n",
       "    <tr>\n",
       "      <th>2018-01-08</th>\n",
       "      <td>0.795663</td>\n",
       "      <td>0.015255</td>\n",
       "      <td>0.598843</td>\n",
       "      <td>0.603805</td>\n",
       "      <td>0</td>\n",
       "    </tr>\n",
       "    <tr>\n",
       "      <th>2018-01-09</th>\n",
       "      <td>0.105148</td>\n",
       "      <td>0.381943</td>\n",
       "      <td>0.036476</td>\n",
       "      <td>0.890412</td>\n",
       "      <td>0</td>\n",
       "    </tr>\n",
       "    <tr>\n",
       "      <th>2018-01-10</th>\n",
       "      <td>0.980921</td>\n",
       "      <td>0.059942</td>\n",
       "      <td>0.890546</td>\n",
       "      <td>0.576901</td>\n",
       "      <td>0</td>\n",
       "    </tr>\n",
       "  </tbody>\n",
       "</table>\n",
       "</div>"
      ],
      "text/plain": [
       "             Tencent   Alibaba     Baidu        JD  Tencent_higher_than_half\n",
       "2018-01-01  0.543405  0.278369  0.424518  0.844776                         0\n",
       "2018-01-02  0.004719  0.121569  0.670749  0.825853                         0\n",
       "2018-01-03  0.136707  0.575093  0.891322  0.209202                         0\n",
       "2018-01-04  0.185328  0.108377  0.219697  0.978624                         0\n",
       "2018-01-05  0.811683  0.171941  0.816225  0.274074                         0\n",
       "2018-01-06  0.431704  0.940030  0.817649  0.336112                         0\n",
       "2018-01-07  0.175410  0.372832  0.005689  0.252426                         0\n",
       "2018-01-08  0.795663  0.015255  0.598843  0.603805                         0\n",
       "2018-01-09  0.105148  0.381943  0.036476  0.890412                         0\n",
       "2018-01-10  0.980921  0.059942  0.890546  0.576901                         0"
      ]
     },
     "execution_count": 88,
     "metadata": {},
     "output_type": "execute_result"
    }
   ],
   "source": [
    "df['Tencent_higher_than_half'] = 0 \n",
    "df"
   ]
  },
  {
   "cell_type": "code",
   "execution_count": 89,
   "metadata": {},
   "outputs": [
    {
     "data": {
      "text/plain": [
       "2018-01-01     True\n",
       "2018-01-02    False\n",
       "2018-01-03    False\n",
       "2018-01-04    False\n",
       "2018-01-05     True\n",
       "2018-01-06    False\n",
       "2018-01-07    False\n",
       "2018-01-08     True\n",
       "2018-01-09    False\n",
       "2018-01-10     True\n",
       "Freq: D, Name: Tencent, dtype: bool"
      ]
     },
     "execution_count": 89,
     "metadata": {},
     "output_type": "execute_result"
    }
   ],
   "source": [
    "condition = ( df['Tencent'] > 0.5 ) \n",
    "condition"
   ]
  },
  {
   "cell_type": "code",
   "execution_count": 90,
   "metadata": {},
   "outputs": [],
   "source": [
    "# df.loc[condition, \"variable name\"] = alpha, this will go through the column \"variable name\" row by row: \n",
    "# for each row where the condition is True, assign a new value alpha to that row. \n",
    "\n",
    "df.loc[condition, 'Tencent_higher_than_half'] = 1 "
   ]
  },
  {
   "cell_type": "code",
   "execution_count": 91,
   "metadata": {
    "scrolled": true
   },
   "outputs": [
    {
     "data": {
      "text/html": [
       "<div>\n",
       "<style scoped>\n",
       "    .dataframe tbody tr th:only-of-type {\n",
       "        vertical-align: middle;\n",
       "    }\n",
       "\n",
       "    .dataframe tbody tr th {\n",
       "        vertical-align: top;\n",
       "    }\n",
       "\n",
       "    .dataframe thead th {\n",
       "        text-align: right;\n",
       "    }\n",
       "</style>\n",
       "<table border=\"1\" class=\"dataframe\">\n",
       "  <thead>\n",
       "    <tr style=\"text-align: right;\">\n",
       "      <th></th>\n",
       "      <th>Tencent</th>\n",
       "      <th>Alibaba</th>\n",
       "      <th>Baidu</th>\n",
       "      <th>JD</th>\n",
       "      <th>Tencent_higher_than_half</th>\n",
       "    </tr>\n",
       "  </thead>\n",
       "  <tbody>\n",
       "    <tr>\n",
       "      <th>2018-01-01</th>\n",
       "      <td>0.543405</td>\n",
       "      <td>0.278369</td>\n",
       "      <td>0.424518</td>\n",
       "      <td>0.844776</td>\n",
       "      <td>1</td>\n",
       "    </tr>\n",
       "    <tr>\n",
       "      <th>2018-01-02</th>\n",
       "      <td>0.004719</td>\n",
       "      <td>0.121569</td>\n",
       "      <td>0.670749</td>\n",
       "      <td>0.825853</td>\n",
       "      <td>0</td>\n",
       "    </tr>\n",
       "    <tr>\n",
       "      <th>2018-01-03</th>\n",
       "      <td>0.136707</td>\n",
       "      <td>0.575093</td>\n",
       "      <td>0.891322</td>\n",
       "      <td>0.209202</td>\n",
       "      <td>0</td>\n",
       "    </tr>\n",
       "    <tr>\n",
       "      <th>2018-01-04</th>\n",
       "      <td>0.185328</td>\n",
       "      <td>0.108377</td>\n",
       "      <td>0.219697</td>\n",
       "      <td>0.978624</td>\n",
       "      <td>0</td>\n",
       "    </tr>\n",
       "    <tr>\n",
       "      <th>2018-01-05</th>\n",
       "      <td>0.811683</td>\n",
       "      <td>0.171941</td>\n",
       "      <td>0.816225</td>\n",
       "      <td>0.274074</td>\n",
       "      <td>1</td>\n",
       "    </tr>\n",
       "    <tr>\n",
       "      <th>2018-01-06</th>\n",
       "      <td>0.431704</td>\n",
       "      <td>0.940030</td>\n",
       "      <td>0.817649</td>\n",
       "      <td>0.336112</td>\n",
       "      <td>0</td>\n",
       "    </tr>\n",
       "    <tr>\n",
       "      <th>2018-01-07</th>\n",
       "      <td>0.175410</td>\n",
       "      <td>0.372832</td>\n",
       "      <td>0.005689</td>\n",
       "      <td>0.252426</td>\n",
       "      <td>0</td>\n",
       "    </tr>\n",
       "    <tr>\n",
       "      <th>2018-01-08</th>\n",
       "      <td>0.795663</td>\n",
       "      <td>0.015255</td>\n",
       "      <td>0.598843</td>\n",
       "      <td>0.603805</td>\n",
       "      <td>1</td>\n",
       "    </tr>\n",
       "    <tr>\n",
       "      <th>2018-01-09</th>\n",
       "      <td>0.105148</td>\n",
       "      <td>0.381943</td>\n",
       "      <td>0.036476</td>\n",
       "      <td>0.890412</td>\n",
       "      <td>0</td>\n",
       "    </tr>\n",
       "    <tr>\n",
       "      <th>2018-01-10</th>\n",
       "      <td>0.980921</td>\n",
       "      <td>0.059942</td>\n",
       "      <td>0.890546</td>\n",
       "      <td>0.576901</td>\n",
       "      <td>1</td>\n",
       "    </tr>\n",
       "  </tbody>\n",
       "</table>\n",
       "</div>"
      ],
      "text/plain": [
       "             Tencent   Alibaba     Baidu        JD  Tencent_higher_than_half\n",
       "2018-01-01  0.543405  0.278369  0.424518  0.844776                         1\n",
       "2018-01-02  0.004719  0.121569  0.670749  0.825853                         0\n",
       "2018-01-03  0.136707  0.575093  0.891322  0.209202                         0\n",
       "2018-01-04  0.185328  0.108377  0.219697  0.978624                         0\n",
       "2018-01-05  0.811683  0.171941  0.816225  0.274074                         1\n",
       "2018-01-06  0.431704  0.940030  0.817649  0.336112                         0\n",
       "2018-01-07  0.175410  0.372832  0.005689  0.252426                         0\n",
       "2018-01-08  0.795663  0.015255  0.598843  0.603805                         1\n",
       "2018-01-09  0.105148  0.381943  0.036476  0.890412                         0\n",
       "2018-01-10  0.980921  0.059942  0.890546  0.576901                         1"
      ]
     },
     "execution_count": 91,
     "metadata": {},
     "output_type": "execute_result"
    }
   ],
   "source": [
    "df"
   ]
  }
 ],
 "metadata": {
  "kernelspec": {
   "display_name": "Python 3 (ipykernel)",
   "language": "python",
   "name": "python3"
  },
  "language_info": {
   "codemirror_mode": {
    "name": "ipython",
    "version": 3
   },
   "file_extension": ".py",
   "mimetype": "text/x-python",
   "name": "python",
   "nbconvert_exporter": "python",
   "pygments_lexer": "ipython3",
   "version": "3.9.12"
  }
 },
 "nbformat": 4,
 "nbformat_minor": 4
}
